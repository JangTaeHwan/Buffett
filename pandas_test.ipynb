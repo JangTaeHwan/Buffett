{
 "cells": [
  {
   "cell_type": "code",
   "execution_count": null,
   "metadata": {
    "scrolled": true
   },
   "outputs": [],
   "source": [
    "import pandas_datareader as pdr"
   ]
  },
  {
   "cell_type": "code",
   "execution_count": 119,
   "metadata": {},
   "outputs": [],
   "source": [
    "key = '2b3a67141d7de598aa4698a368faaf2ef16400b5'\n",
    "df = pdr.get_data_tiingo(\"AAPL\", api_key=key)"
   ]
  },
  {
   "cell_type": "code",
   "execution_count": 120,
   "metadata": {},
   "outputs": [],
   "source": [
    "df.to_csv('datas/AAPL.csv')"
   ]
  },
  {
   "cell_type": "code",
   "execution_count": 121,
   "metadata": {},
   "outputs": [],
   "source": [
    "import pandas as pd"
   ]
  },
  {
   "cell_type": "code",
   "execution_count": 122,
   "metadata": {},
   "outputs": [],
   "source": [
    "df = pd.read_csv('datas/AAPL.csv')"
   ]
  },
  {
   "cell_type": "code",
   "execution_count": 123,
   "metadata": {
    "scrolled": true
   },
   "outputs": [
    {
     "data": {
      "text/html": [
       "<div>\n",
       "<style scoped>\n",
       "    .dataframe tbody tr th:only-of-type {\n",
       "        vertical-align: middle;\n",
       "    }\n",
       "\n",
       "    .dataframe tbody tr th {\n",
       "        vertical-align: top;\n",
       "    }\n",
       "\n",
       "    .dataframe thead th {\n",
       "        text-align: right;\n",
       "    }\n",
       "</style>\n",
       "<table border=\"1\" class=\"dataframe\">\n",
       "  <thead>\n",
       "    <tr style=\"text-align: right;\">\n",
       "      <th></th>\n",
       "      <th>symbol</th>\n",
       "      <th>date</th>\n",
       "      <th>close</th>\n",
       "      <th>high</th>\n",
       "      <th>low</th>\n",
       "      <th>open</th>\n",
       "      <th>volume</th>\n",
       "      <th>adjClose</th>\n",
       "      <th>adjHigh</th>\n",
       "      <th>adjLow</th>\n",
       "      <th>adjOpen</th>\n",
       "      <th>adjVolume</th>\n",
       "      <th>divCash</th>\n",
       "      <th>splitFactor</th>\n",
       "    </tr>\n",
       "  </thead>\n",
       "  <tbody>\n",
       "    <tr>\n",
       "      <th>1252</th>\n",
       "      <td>AAPL</td>\n",
       "      <td>2020-08-18 00:00:00+00:00</td>\n",
       "      <td>462.25</td>\n",
       "      <td>464.000</td>\n",
       "      <td>456.0300</td>\n",
       "      <td>457.410</td>\n",
       "      <td>26408385</td>\n",
       "      <td>462.25</td>\n",
       "      <td>464.000</td>\n",
       "      <td>456.0300</td>\n",
       "      <td>457.410</td>\n",
       "      <td>26408385</td>\n",
       "      <td>0.0</td>\n",
       "      <td>1.0</td>\n",
       "    </tr>\n",
       "    <tr>\n",
       "      <th>1253</th>\n",
       "      <td>AAPL</td>\n",
       "      <td>2020-08-19 00:00:00+00:00</td>\n",
       "      <td>462.83</td>\n",
       "      <td>468.650</td>\n",
       "      <td>462.4400</td>\n",
       "      <td>463.933</td>\n",
       "      <td>36384502</td>\n",
       "      <td>462.83</td>\n",
       "      <td>468.650</td>\n",
       "      <td>462.4400</td>\n",
       "      <td>463.933</td>\n",
       "      <td>36384502</td>\n",
       "      <td>0.0</td>\n",
       "      <td>1.0</td>\n",
       "    </tr>\n",
       "    <tr>\n",
       "      <th>1254</th>\n",
       "      <td>AAPL</td>\n",
       "      <td>2020-08-20 00:00:00+00:00</td>\n",
       "      <td>473.10</td>\n",
       "      <td>473.568</td>\n",
       "      <td>462.9335</td>\n",
       "      <td>463.000</td>\n",
       "      <td>31726797</td>\n",
       "      <td>473.10</td>\n",
       "      <td>473.568</td>\n",
       "      <td>462.9335</td>\n",
       "      <td>463.000</td>\n",
       "      <td>31726797</td>\n",
       "      <td>0.0</td>\n",
       "      <td>1.0</td>\n",
       "    </tr>\n",
       "    <tr>\n",
       "      <th>1255</th>\n",
       "      <td>AAPL</td>\n",
       "      <td>2020-08-21 00:00:00+00:00</td>\n",
       "      <td>497.48</td>\n",
       "      <td>499.472</td>\n",
       "      <td>477.0000</td>\n",
       "      <td>477.050</td>\n",
       "      <td>84513660</td>\n",
       "      <td>497.48</td>\n",
       "      <td>499.472</td>\n",
       "      <td>477.0000</td>\n",
       "      <td>477.050</td>\n",
       "      <td>84513660</td>\n",
       "      <td>0.0</td>\n",
       "      <td>1.0</td>\n",
       "    </tr>\n",
       "    <tr>\n",
       "      <th>1256</th>\n",
       "      <td>AAPL</td>\n",
       "      <td>2020-08-24 00:00:00+00:00</td>\n",
       "      <td>503.43</td>\n",
       "      <td>515.140</td>\n",
       "      <td>495.7450</td>\n",
       "      <td>514.790</td>\n",
       "      <td>85834847</td>\n",
       "      <td>503.43</td>\n",
       "      <td>515.140</td>\n",
       "      <td>495.7450</td>\n",
       "      <td>514.790</td>\n",
       "      <td>85834847</td>\n",
       "      <td>0.0</td>\n",
       "      <td>1.0</td>\n",
       "    </tr>\n",
       "  </tbody>\n",
       "</table>\n",
       "</div>"
      ],
      "text/plain": [
       "     symbol                       date   close     high       low     open  \\\n",
       "1252   AAPL  2020-08-18 00:00:00+00:00  462.25  464.000  456.0300  457.410   \n",
       "1253   AAPL  2020-08-19 00:00:00+00:00  462.83  468.650  462.4400  463.933   \n",
       "1254   AAPL  2020-08-20 00:00:00+00:00  473.10  473.568  462.9335  463.000   \n",
       "1255   AAPL  2020-08-21 00:00:00+00:00  497.48  499.472  477.0000  477.050   \n",
       "1256   AAPL  2020-08-24 00:00:00+00:00  503.43  515.140  495.7450  514.790   \n",
       "\n",
       "        volume  adjClose  adjHigh    adjLow  adjOpen  adjVolume  divCash  \\\n",
       "1252  26408385    462.25  464.000  456.0300  457.410   26408385      0.0   \n",
       "1253  36384502    462.83  468.650  462.4400  463.933   36384502      0.0   \n",
       "1254  31726797    473.10  473.568  462.9335  463.000   31726797      0.0   \n",
       "1255  84513660    497.48  499.472  477.0000  477.050   84513660      0.0   \n",
       "1256  85834847    503.43  515.140  495.7450  514.790   85834847      0.0   \n",
       "\n",
       "      splitFactor  \n",
       "1252          1.0  \n",
       "1253          1.0  \n",
       "1254          1.0  \n",
       "1255          1.0  \n",
       "1256          1.0  "
      ]
     },
     "execution_count": 123,
     "metadata": {},
     "output_type": "execute_result"
    }
   ],
   "source": [
    "df.tail()"
   ]
  },
  {
   "cell_type": "code",
   "execution_count": 124,
   "metadata": {},
   "outputs": [],
   "source": [
    "df1 = df.reset_index()['close']"
   ]
  },
  {
   "cell_type": "code",
   "execution_count": 125,
   "metadata": {},
   "outputs": [
    {
     "data": {
      "text/plain": [
       "(1257,)"
      ]
     },
     "execution_count": 125,
     "metadata": {},
     "output_type": "execute_result"
    }
   ],
   "source": [
    "df1.shape"
   ]
  },
  {
   "cell_type": "code",
   "execution_count": 129,
   "metadata": {
    "collapsed": false
   },
   "outputs": [
    {
     "data": {
      "text/plain": [
       "[<matplotlib.lines.Line2D at 0x13bcf0970>]"
      ]
     },
     "execution_count": 129,
     "metadata": {},
     "output_type": "execute_result"
    },
    {
     "data": {
      "image/png": "[encoded data removed]",
      "text/plain": [
       "<Figure size 432x288 with 1 Axes>"
      ]
     },
     "metadata": {
      "needs_background": "light"
     },
     "output_type": "display_data"
    }
   ],
   "source": [
    "import matplotlib.pyplot as plt\n",
    "plt.plot(df1)"
   ]
  },
  {
   "cell_type": "code",
   "execution_count": 130,
   "metadata": {},
   "outputs": [],
   "source": [
    "import numpy as np\n",
    "from sklearn.preprocessing import MinMaxScaler\n",
    "scaler=MinMaxScaler(feature_range=(0, 1))\n",
    "df1=scaler.fit_transform(np.array(df1).reshape(-1, 1))"
   ]
  },
  {
   "cell_type": "code",
   "execution_count": 131,
   "metadata": {},
   "outputs": [
    {
     "data": {
      "text/plain": [
       "(1257, 1)"
      ]
     },
     "execution_count": 131,
     "metadata": {},
     "output_type": "execute_result"
    }
   ],
   "source": [
    "df1.shape"
   ]
  },
  {
   "cell_type": "code",
   "execution_count": 183,
   "metadata": {},
   "outputs": [
    {
     "data": {
      "text/plain": [
       "array([[0.05466121],\n",
       "       [0.0555569 ],\n",
       "       [0.05427389],\n",
       "       ...,\n",
       "       [0.92657774],\n",
       "       [0.98559636],\n",
       "       [1.        ]])"
      ]
     },
     "execution_count": 183,
     "metadata": {},
     "output_type": "execute_result"
    }
   ],
   "source": [
    " df1"
   ]
  },
  {
   "cell_type": "code",
   "execution_count": 184,
   "metadata": {},
   "outputs": [],
   "source": [
    "### splitting dataset into train and test\n",
    "training_size=int(len(df1)*0.90)\n",
    "test_size=len(df1)-training_size\n",
    "train_data,test_data=df1[0:training_size],df1[training_size:len(df1)]"
   ]
  },
  {
   "cell_type": "code",
   "execution_count": 198,
   "metadata": {},
   "outputs": [
    {
     "name": "stdout",
     "output_type": "stream",
     "text": [
      "1131\n",
      "126\n"
     ]
    }
   ],
   "source": [
    "print(training_size)\n",
    "print(test_size)"
   ]
  },
  {
   "cell_type": "code",
   "execution_count": 199,
   "metadata": {},
   "outputs": [],
   "source": [
    "import numpy as np\n",
    "\n",
    "def create_dataset(data_set, time_step=1):\n",
    "    data_x, data_y = [], []\n",
    "    for i in range(len(data_set)-time_step):\n",
    "        data_x.append(data_set[i:(i+time_step)])\n",
    "        data_y.append(data_set[i+time_step])\n",
    "    return np.array(data_x), np.array(data_y)"
   ]
  },
  {
   "cell_type": "code",
   "execution_count": 200,
   "metadata": {},
   "outputs": [],
   "source": [
    "time_step = 100\n",
    "train_x, train_y = create_dataset(train_data, time_step)\n",
    "test_x, test_y = create_dataset(test_data, time_step)"
   ]
  },
  {
   "cell_type": "code",
   "execution_count": 201,
   "metadata": {},
   "outputs": [
    {
     "name": "stdout",
     "output_type": "stream",
     "text": [
      "(1031, 100, 1)\n",
      "(1031, 1)\n"
     ]
    }
   ],
   "source": [
    "print(train_x.shape)\n",
    "print(train_y.shape)"
   ]
  },
  {
   "cell_type": "code",
   "execution_count": 203,
   "metadata": {},
   "outputs": [
    {
     "name": "stdout",
     "output_type": "stream",
     "text": [
      "(26, 100, 1)\n",
      "(26, 1)\n"
     ]
    }
   ],
   "source": [
    "print(test_x.shape)\n",
    "print(test_y.shape)"
   ]
  },
  {
   "cell_type": "code",
   "execution_count": 204,
   "metadata": {},
   "outputs": [],
   "source": [
    "### Create the Stacked LSTM model\n",
    "from tensorflow.keras.models import Sequential\n",
    "from tensorflow.keras.layers import Dense\n",
    "from tensorflow.keras.layers import LSTM"
   ]
  },
  {
   "cell_type": "code",
   "execution_count": 205,
   "metadata": {},
   "outputs": [
    {
     "data": {
      "text/plain": [
       "'2.3.0'"
      ]
     },
     "execution_count": 205,
     "metadata": {},
     "output_type": "execute_result"
    }
   ],
   "source": [
    "import tensorflow as tf\n",
    "tf.__version__"
   ]
  },
  {
   "cell_type": "code",
   "execution_count": 206,
   "metadata": {},
   "outputs": [],
   "source": [
    "model=Sequential()\n",
    "model.add(LSTM(50, return_sequences=True, input_shape=(100, 1)))\n",
    "model.add(LSTM(50, return_sequences=True))\n",
    "model.add(LSTM(50))\n",
    "model.add(Dense(1))\n",
    "model.compile(loss=\"mean_squared_error\", optimizer=\"adam\")"
   ]
  },
  {
   "cell_type": "code",
   "execution_count": 207,
   "metadata": {},
   "outputs": [
    {
     "name": "stdout",
     "output_type": "stream",
     "text": [
      "Model: \"sequential_3\"\n",
      "_________________________________________________________________\n",
      "Layer (type)                 Output Shape              Param #   \n",
      "=================================================================\n",
      "lstm_9 (LSTM)                (None, 100, 50)           10400     \n",
      "_________________________________________________________________\n",
      "lstm_10 (LSTM)               (None, 100, 50)           20200     \n",
      "_________________________________________________________________\n",
      "lstm_11 (LSTM)               (None, 50)                20200     \n",
      "_________________________________________________________________\n",
      "dense_3 (Dense)              (None, 1)                 51        \n",
      "=================================================================\n",
      "Total params: 50,851\n",
      "Trainable params: 50,851\n",
      "Non-trainable params: 0\n",
      "_________________________________________________________________\n"
     ]
    }
   ],
   "source": [
    "model.summary()"
   ]
  },
  {
   "cell_type": "code",
   "execution_count": 208,
   "metadata": {},
   "outputs": [
    {
     "name": "stdout",
     "output_type": "stream",
     "text": [
      "Epoch 1/100\n",
      "17/17 [==============================] - 2s 120ms/step - loss: 0.0166 - val_loss: 0.1355\n",
      "Epoch 2/100\n",
      "17/17 [==============================] - 1s 79ms/step - loss: 0.0019 - val_loss: 0.0034\n",
      "Epoch 3/100\n",
      "17/17 [==============================] - 1s 75ms/step - loss: 6.9192e-04 - val_loss: 0.0034\n",
      "Epoch 4/100\n",
      "17/17 [==============================] - 1s 87ms/step - loss: 5.1161e-04 - val_loss: 0.0037\n",
      "Epoch 5/100\n",
      "17/17 [==============================] - 1s 88ms/step - loss: 3.8722e-04 - val_loss: 0.0071\n",
      "Epoch 6/100\n",
      "17/17 [==============================] - 1s 86ms/step - loss: 3.6770e-04 - val_loss: 0.0062\n",
      "Epoch 7/100\n",
      "17/17 [==============================] - 1s 84ms/step - loss: 3.6372e-04 - val_loss: 0.0067\n",
      "Epoch 8/100\n",
      "17/17 [==============================] - 1s 83ms/step - loss: 3.4390e-04 - val_loss: 0.0046\n",
      "Epoch 9/100\n",
      "17/17 [==============================] - 1s 72ms/step - loss: 3.3748e-04 - val_loss: 0.0079\n",
      "Epoch 10/100\n",
      "17/17 [==============================] - 1s 75ms/step - loss: 3.1893e-04 - val_loss: 0.0046\n",
      "Epoch 11/100\n",
      "17/17 [==============================] - 1s 78ms/step - loss: 3.1027e-04 - val_loss: 0.0061\n",
      "Epoch 12/100\n",
      "17/17 [==============================] - 1s 81ms/step - loss: 3.0591e-04 - val_loss: 0.0047\n",
      "Epoch 13/100\n",
      "17/17 [==============================] - 1s 79ms/step - loss: 3.5774e-04 - val_loss: 0.0078\n",
      "Epoch 14/100\n",
      "17/17 [==============================] - 1s 76ms/step - loss: 2.9229e-04 - val_loss: 0.0102\n",
      "Epoch 15/100\n",
      "17/17 [==============================] - 1s 77ms/step - loss: 4.5239e-04 - val_loss: 0.0060\n",
      "Epoch 16/100\n",
      "17/17 [==============================] - 1s 79ms/step - loss: 2.8524e-04 - val_loss: 0.0065\n",
      "Epoch 17/100\n",
      "17/17 [==============================] - 1s 78ms/step - loss: 2.6050e-04 - val_loss: 0.0086\n",
      "Epoch 18/100\n",
      "17/17 [==============================] - 1s 83ms/step - loss: 3.3273e-04 - val_loss: 0.0060\n",
      "Epoch 19/100\n",
      "17/17 [==============================] - 1s 80ms/step - loss: 2.4425e-04 - val_loss: 0.0074\n",
      "Epoch 20/100\n",
      "17/17 [==============================] - 1s 78ms/step - loss: 2.5957e-04 - val_loss: 0.0107\n",
      "Epoch 21/100\n",
      "17/17 [==============================] - 1s 78ms/step - loss: 2.4383e-04 - val_loss: 0.0056\n",
      "Epoch 22/100\n",
      "17/17 [==============================] - 1s 79ms/step - loss: 2.2173e-04 - val_loss: 0.0043\n",
      "Epoch 23/100\n",
      "17/17 [==============================] - 1s 80ms/step - loss: 2.1469e-04 - val_loss: 0.0086\n",
      "Epoch 24/100\n",
      "17/17 [==============================] - 1s 73ms/step - loss: 2.3590e-04 - val_loss: 0.0056\n",
      "Epoch 25/100\n",
      "17/17 [==============================] - 1s 72ms/step - loss: 2.3941e-04 - val_loss: 0.0070\n",
      "Epoch 26/100\n",
      "17/17 [==============================] - 1s 71ms/step - loss: 2.0779e-04 - val_loss: 0.0055\n",
      "Epoch 27/100\n",
      "17/17 [==============================] - 1s 73ms/step - loss: 2.1807e-04 - val_loss: 0.0057\n",
      "Epoch 28/100\n",
      "17/17 [==============================] - 1s 85ms/step - loss: 2.2071e-04 - val_loss: 0.0056\n",
      "Epoch 29/100\n",
      "17/17 [==============================] - 1s 88ms/step - loss: 2.0359e-04 - val_loss: 0.0055\n",
      "Epoch 30/100\n",
      "17/17 [==============================] - 1s 73ms/step - loss: 2.0972e-04 - val_loss: 0.0054\n",
      "Epoch 31/100\n",
      "17/17 [==============================] - 1s 72ms/step - loss: 2.0279e-04 - val_loss: 0.0060\n",
      "Epoch 32/100\n",
      "17/17 [==============================] - 1s 71ms/step - loss: 1.9478e-04 - val_loss: 0.0055\n",
      "Epoch 33/100\n",
      "17/17 [==============================] - 1s 72ms/step - loss: 1.9673e-04 - val_loss: 0.0058\n",
      "Epoch 34/100\n",
      "17/17 [==============================] - 1s 72ms/step - loss: 1.9362e-04 - val_loss: 0.0046\n",
      "Epoch 35/100\n",
      "17/17 [==============================] - 1s 71ms/step - loss: 2.1648e-04 - val_loss: 0.0044\n",
      "Epoch 36/100\n",
      "17/17 [==============================] - 1s 71ms/step - loss: 1.9743e-04 - val_loss: 0.0049\n",
      "Epoch 37/100\n",
      "17/17 [==============================] - 1s 71ms/step - loss: 1.9880e-04 - val_loss: 0.0054\n",
      "Epoch 38/100\n",
      "17/17 [==============================] - 1s 71ms/step - loss: 1.8247e-04 - val_loss: 0.0056\n",
      "Epoch 39/100\n",
      "17/17 [==============================] - 1s 72ms/step - loss: 1.8346e-04 - val_loss: 0.0096\n",
      "Epoch 40/100\n",
      "17/17 [==============================] - 1s 72ms/step - loss: 2.2480e-04 - val_loss: 0.0044\n",
      "Epoch 41/100\n",
      "17/17 [==============================] - 1s 70ms/step - loss: 1.7707e-04 - val_loss: 0.0065\n",
      "Epoch 42/100\n",
      "17/17 [==============================] - 1s 75ms/step - loss: 1.9871e-04 - val_loss: 0.0061\n",
      "Epoch 43/100\n",
      "17/17 [==============================] - 1s 82ms/step - loss: 1.7951e-04 - val_loss: 0.0058\n",
      "Epoch 44/100\n",
      "17/17 [==============================] - 1s 81ms/step - loss: 1.8156e-04 - val_loss: 0.0046\n",
      "Epoch 45/100\n",
      "17/17 [==============================] - 1s 81ms/step - loss: 1.7253e-04 - val_loss: 0.0071\n",
      "Epoch 46/100\n",
      "17/17 [==============================] - 1s 77ms/step - loss: 1.9747e-04 - val_loss: 0.0043\n",
      "Epoch 47/100\n",
      "17/17 [==============================] - 1s 74ms/step - loss: 1.7663e-04 - val_loss: 0.0048\n",
      "Epoch 48/100\n",
      "17/17 [==============================] - 1s 74ms/step - loss: 1.7245e-04 - val_loss: 0.0079\n",
      "Epoch 49/100\n",
      "17/17 [==============================] - 1s 83ms/step - loss: 2.1201e-04 - val_loss: 0.0043\n",
      "Epoch 50/100\n",
      "17/17 [==============================] - 1s 74ms/step - loss: 1.8199e-04 - val_loss: 0.0041\n",
      "Epoch 51/100\n",
      "17/17 [==============================] - 1s 72ms/step - loss: 2.1468e-04 - val_loss: 0.0053\n",
      "Epoch 52/100\n",
      "17/17 [==============================] - 1s 72ms/step - loss: 1.6034e-04 - val_loss: 0.0041\n",
      "Epoch 53/100\n",
      "17/17 [==============================] - 1s 71ms/step - loss: 1.6044e-04 - val_loss: 0.0044\n",
      "Epoch 54/100\n",
      "17/17 [==============================] - 1s 72ms/step - loss: 1.5357e-04 - val_loss: 0.0041\n",
      "Epoch 55/100\n",
      "17/17 [==============================] - 1s 72ms/step - loss: 1.6352e-04 - val_loss: 0.0054\n",
      "Epoch 56/100\n",
      "17/17 [==============================] - 1s 70ms/step - loss: 1.7475e-04 - val_loss: 0.0042\n",
      "Epoch 57/100\n",
      "17/17 [==============================] - 1s 71ms/step - loss: 1.7042e-04 - val_loss: 0.0040\n",
      "Epoch 58/100\n",
      "17/17 [==============================] - 1s 72ms/step - loss: 1.8129e-04 - val_loss: 0.0076\n",
      "Epoch 59/100\n",
      "17/17 [==============================] - 1s 72ms/step - loss: 1.7048e-04 - val_loss: 0.0051\n",
      "Epoch 60/100\n",
      "17/17 [==============================] - 1s 71ms/step - loss: 1.4726e-04 - val_loss: 0.0060\n",
      "Epoch 61/100\n",
      "17/17 [==============================] - 1s 71ms/step - loss: 1.4705e-04 - val_loss: 0.0043\n",
      "Epoch 62/100\n",
      "17/17 [==============================] - 1s 71ms/step - loss: 1.4317e-04 - val_loss: 0.0050\n",
      "Epoch 63/100\n",
      "17/17 [==============================] - 1s 71ms/step - loss: 1.3878e-04 - val_loss: 0.0065\n",
      "Epoch 64/100\n",
      "17/17 [==============================] - 1s 71ms/step - loss: 1.3941e-04 - val_loss: 0.0062\n",
      "Epoch 65/100\n",
      "17/17 [==============================] - 1s 71ms/step - loss: 1.3793e-04 - val_loss: 0.0041\n",
      "Epoch 66/100\n",
      "17/17 [==============================] - 1s 71ms/step - loss: 1.4168e-04 - val_loss: 0.0043\n",
      "Epoch 67/100\n",
      "17/17 [==============================] - 1s 71ms/step - loss: 1.5290e-04 - val_loss: 0.0139\n",
      "Epoch 68/100\n",
      "17/17 [==============================] - 1s 71ms/step - loss: 5.5780e-04 - val_loss: 0.0173\n",
      "Epoch 69/100\n",
      "17/17 [==============================] - 1s 71ms/step - loss: 2.6208e-04 - val_loss: 0.0076\n",
      "Epoch 70/100\n",
      "17/17 [==============================] - 1s 70ms/step - loss: 1.6874e-04 - val_loss: 0.0060\n",
      "Epoch 71/100\n",
      "17/17 [==============================] - 1s 71ms/step - loss: 1.3729e-04 - val_loss: 0.0046\n",
      "Epoch 72/100\n",
      "17/17 [==============================] - 1s 71ms/step - loss: 1.3216e-04 - val_loss: 0.0045\n",
      "Epoch 73/100\n",
      "17/17 [==============================] - 1s 71ms/step - loss: 1.3436e-04 - val_loss: 0.0047\n",
      "Epoch 74/100\n",
      "17/17 [==============================] - 1s 71ms/step - loss: 1.2761e-04 - val_loss: 0.0040\n",
      "Epoch 75/100\n",
      "17/17 [==============================] - 1s 71ms/step - loss: 1.2175e-04 - val_loss: 0.0042\n",
      "Epoch 76/100\n",
      "17/17 [==============================] - 1s 72ms/step - loss: 1.2194e-04 - val_loss: 0.0038\n",
      "Epoch 77/100\n",
      "17/17 [==============================] - 1s 71ms/step - loss: 1.2099e-04 - val_loss: 0.0037\n",
      "Epoch 78/100\n",
      "17/17 [==============================] - 1s 70ms/step - loss: 1.2786e-04 - val_loss: 0.0043\n",
      "Epoch 79/100\n"
     ]
    },
    {
     "name": "stdout",
     "output_type": "stream",
     "text": [
      "17/17 [==============================] - 1s 70ms/step - loss: 1.1601e-04 - val_loss: 0.0035\n",
      "Epoch 80/100\n",
      "17/17 [==============================] - 1s 70ms/step - loss: 1.2002e-04 - val_loss: 0.0033\n",
      "Epoch 81/100\n",
      "17/17 [==============================] - 1s 71ms/step - loss: 1.1869e-04 - val_loss: 0.0044\n",
      "Epoch 82/100\n",
      "17/17 [==============================] - 1s 71ms/step - loss: 1.1221e-04 - val_loss: 0.0037\n",
      "Epoch 83/100\n",
      "17/17 [==============================] - 1s 71ms/step - loss: 1.1091e-04 - val_loss: 0.0031\n",
      "Epoch 84/100\n",
      "17/17 [==============================] - 1s 72ms/step - loss: 1.3836e-04 - val_loss: 0.0028\n",
      "Epoch 85/100\n",
      "17/17 [==============================] - 1s 71ms/step - loss: 1.2144e-04 - val_loss: 0.0077\n",
      "Epoch 86/100\n",
      "17/17 [==============================] - 1s 70ms/step - loss: 2.1683e-04 - val_loss: 0.0110\n",
      "Epoch 87/100\n",
      "17/17 [==============================] - 1s 71ms/step - loss: 1.1832e-04 - val_loss: 0.0082\n",
      "Epoch 88/100\n",
      "17/17 [==============================] - 1s 69ms/step - loss: 1.1488e-04 - val_loss: 0.0060\n",
      "Epoch 89/100\n",
      "17/17 [==============================] - 1s 71ms/step - loss: 1.1256e-04 - val_loss: 0.0058\n",
      "Epoch 90/100\n",
      "17/17 [==============================] - 1s 72ms/step - loss: 1.0968e-04 - val_loss: 0.0054\n",
      "Epoch 91/100\n",
      "17/17 [==============================] - 1s 71ms/step - loss: 1.0758e-04 - val_loss: 0.0073\n",
      "Epoch 92/100\n",
      "17/17 [==============================] - 1s 71ms/step - loss: 1.2779e-04 - val_loss: 0.0042\n",
      "Epoch 93/100\n",
      "17/17 [==============================] - 1s 70ms/step - loss: 1.0062e-04 - val_loss: 0.0044\n",
      "Epoch 94/100\n",
      "17/17 [==============================] - 1s 72ms/step - loss: 1.0401e-04 - val_loss: 0.0036\n",
      "Epoch 95/100\n",
      "17/17 [==============================] - 1s 75ms/step - loss: 1.0483e-04 - val_loss: 0.0029\n",
      "Epoch 96/100\n",
      "17/17 [==============================] - 1s 71ms/step - loss: 9.8645e-05 - val_loss: 0.0024\n",
      "Epoch 97/100\n",
      "17/17 [==============================] - 1s 71ms/step - loss: 1.1099e-04 - val_loss: 0.0038\n",
      "Epoch 98/100\n",
      "17/17 [==============================] - 1s 70ms/step - loss: 1.0042e-04 - val_loss: 0.0055\n",
      "Epoch 99/100\n",
      "17/17 [==============================] - 1s 72ms/step - loss: 1.0671e-04 - val_loss: 0.0046\n",
      "Epoch 100/100\n",
      "17/17 [==============================] - 1s 71ms/step - loss: 1.0269e-04 - val_loss: 0.0024\n"
     ]
    },
    {
     "data": {
      "text/plain": [
       "<tensorflow.python.keras.callbacks.History at 0x13cf89100>"
      ]
     },
     "execution_count": 208,
     "metadata": {},
     "output_type": "execute_result"
    }
   ],
   "source": [
    "model.fit(train_x, train_y,\n",
    "          validation_data=(test_x, test_y),\n",
    "          epochs=100,\n",
    "          batch_size=64,\n",
    "          verbose=1)"
   ]
  },
  {
   "cell_type": "code",
   "execution_count": 209,
   "metadata": {},
   "outputs": [],
   "source": [
    "train_predict=model.predict(train_x)\n",
    "test_predict=model.predict(test_x)"
   ]
  },
  {
   "cell_type": "code",
   "execution_count": 210,
   "metadata": {},
   "outputs": [],
   "source": [
    "train_predict=scaler.inverse_transform(train_predict)\n",
    "test_predict=scaler.inverse_transform(test_predict)"
   ]
  },
  {
   "cell_type": "code",
   "execution_count": 217,
   "metadata": {},
   "outputs": [
    {
     "data": {
      "text/plain": [
       "(1031, 1)"
      ]
     },
     "execution_count": 217,
     "metadata": {},
     "output_type": "execute_result"
    }
   ],
   "source": [
    "train_predict.shape"
   ]
  },
  {
   "cell_type": "code",
   "execution_count": 218,
   "metadata": {},
   "outputs": [
    {
     "data": {
      "text/plain": [
       "(26, 1)"
      ]
     },
     "execution_count": 218,
     "metadata": {},
     "output_type": "execute_result"
    }
   ],
   "source": [
    "test_predict.shape"
   ]
  },
  {
   "cell_type": "code",
   "execution_count": 228,
   "metadata": {},
   "outputs": [
    {
     "name": "stdout",
     "output_type": "stream",
     "text": [
      "4.328422071034392\n",
      "20.43259469851148\n"
     ]
    }
   ],
   "source": [
    "### Calculate RMSE performance metrics\n",
    "import math\n",
    "from sklearn.metrics import mean_squared_error\n",
    "\n",
    "print(math.sqrt(mean_squared_error(scaler.inverse_transform(train_y), train_predict)))\n",
    "print(math.sqrt(mean_squared_error(scaler.inverse_transform(test_y), test_predict)))"
   ]
  },
  {
   "cell_type": "code",
   "execution_count": 229,
   "metadata": {},
   "outputs": [
    {
     "data": {
      "text/plain": [
       "array([[393.43],\n",
       "       [388.  ],\n",
       "       [389.09],\n",
       "       [371.38],\n",
       "       [370.46],\n",
       "       [379.24],\n",
       "       [373.01],\n",
       "       [380.16],\n",
       "       [384.76],\n",
       "       [425.04],\n",
       "       [435.75],\n",
       "       [438.66],\n",
       "       [440.25],\n",
       "       [455.61],\n",
       "       [444.45],\n",
       "       [450.91],\n",
       "       [437.5 ],\n",
       "       [452.04],\n",
       "       [460.04],\n",
       "       [459.63],\n",
       "       [458.43],\n",
       "       [462.25],\n",
       "       [462.83],\n",
       "       [473.1 ],\n",
       "       [497.48],\n",
       "       [503.43]])"
      ]
     },
     "execution_count": 229,
     "metadata": {},
     "output_type": "execute_result"
    }
   ],
   "source": [
    "scaler.inverse_transform(test_y)"
   ]
  },
  {
   "cell_type": "code",
   "execution_count": 230,
   "metadata": {},
   "outputs": [
    {
     "data": {
      "text/plain": [
       "array([[387.5261 ],\n",
       "       [386.9439 ],\n",
       "       [386.80536],\n",
       "       [386.90414],\n",
       "       [382.05798],\n",
       "       [373.6492 ],\n",
       "       [367.57755],\n",
       "       [364.10135],\n",
       "       [365.16458],\n",
       "       [370.71625],\n",
       "       [389.31644],\n",
       "       [417.62943],\n",
       "       [445.62262],\n",
       "       [464.1076 ],\n",
       "       [473.61285],\n",
       "       [470.81238],\n",
       "       [461.23804],\n",
       "       [446.14145],\n",
       "       [435.63083],\n",
       "       [435.26788],\n",
       "       [442.85455],\n",
       "       [453.13928],\n",
       "       [462.94907],\n",
       "       [469.75772],\n",
       "       [475.7557 ],\n",
       "       [487.87326]], dtype=float32)"
      ]
     },
     "execution_count": 230,
     "metadata": {},
     "output_type": "execute_result"
    }
   ],
   "source": [
    "test_predict"
   ]
  },
  {
   "cell_type": "code",
   "execution_count": 232,
   "metadata": {},
   "outputs": [
    {
     "data": {
      "image/png": "[encoded data removed]",
      "text/plain": [
       "<Figure size 432x288 with 1 Axes>"
      ]
     },
     "metadata": {
      "needs_background": "light"
     },
     "output_type": "display_data"
    }
   ],
   "source": [
    "### Plotting\n",
    "# shift train predictions for plotting\n",
    "look_back=100\n",
    "train_predict_plot=np.empty_like(df1)\n",
    "train_predict_plot[:,:]=np.nan\n",
    "train_predict_plot[look_back:len(train_predict)+look_back,:]=train_predict\n",
    "\n",
    "# shift test predictions for plotting\n",
    "test_predict_plot=np.empty_like(df1)\n",
    "test_predict_plot[:,:] = np.nan\n",
    "test_predict_plot[len(train_predict)+(look_back*2):len(df1),:]=test_predict\n",
    "\n",
    "# plot baseline and predictions\n",
    "plt.plot(scaler.inverse_transform(df1))\n",
    "plt.plot(train_predict_plot)\n",
    "plt.plot(test_predict_plot)\n",
    "plt.show()"
   ]
  },
  {
   "cell_type": "code",
   "execution_count": 234,
   "metadata": {},
   "outputs": [
    {
     "data": {
      "text/plain": [
       "(1, 100)"
      ]
     },
     "execution_count": 234,
     "metadata": {},
     "output_type": "execute_result"
    }
   ],
   "source": [
    "input_x=test_data[26:].reshape(1, -1)\n",
    "input_x.shape"
   ]
  },
  {
   "cell_type": "code",
   "execution_count": 235,
   "metadata": {},
   "outputs": [],
   "source": [
    "input_t=list(input_x)\n",
    "input_t=input_t[0].tolist()"
   ]
  },
  {
   "cell_type": "code",
   "execution_count": 236,
   "metadata": {},
   "outputs": [
    {
     "name": "stdout",
     "output_type": "stream",
     "text": [
      "[1.0013068]\n",
      "101\n",
      "[[1.0013067722320557]]\n",
      "1 day input [0.36570723 0.41668886 0.40932969 0.42540367 0.43005156 0.44278487\n",
      " 0.47619163 0.46984919 0.47532015 0.46590331 0.45169334 0.43097146\n",
      " 0.44968409 0.44709385 0.46631485 0.466799   0.45568762 0.47783776\n",
      " 0.49253189 0.4810816  0.49098259 0.50163403 0.50906582 0.51659445\n",
      " 0.53206323 0.54387664 0.53516183 0.5260597  0.53063497 0.52620494\n",
      " 0.5437556  0.53934978 0.55409233 0.54833087 0.55326926 0.54804038\n",
      " 0.55138105 0.55171996 0.55096952 0.56043477 0.56404173 0.56835072\n",
      " 0.56157254 0.5837953  0.58854003 0.61403084 0.63545474 0.59444673\n",
      " 0.60146699 0.61161006 0.63361495 0.63242877 0.63276768 0.62790191\n",
      " 0.65005205 0.66859522 0.65293277 0.6645041  0.63736716 0.65709652\n",
      " 0.66440727 0.66273693 0.66273693 0.68631533 0.68350723 0.7045196\n",
      " 0.70848968 0.7101116  0.70582682 0.72112615 0.72758963 0.71594568\n",
      " 0.71405747 0.7337142  0.72056937 0.72320802 0.680336   0.67810889\n",
      " 0.69936333 0.68428188 0.70159045 0.71272604 0.81023506 0.83616161\n",
      " 0.84320608 0.84705512 0.8842383  0.8572224  0.87286064 0.84039798\n",
      " 0.87559612 0.89496236 0.89396984 0.8910649  0.90031228 0.90171633\n",
      " 0.92657774 0.98559636 1.         1.00130677]\n",
      "1 day output [[1.0343615]]\n",
      "[[1.0013067722320557], [1.034361481666565]]\n",
      "2 day input [0.41668886 0.40932969 0.42540367 0.43005156 0.44278487 0.47619163\n",
      " 0.46984919 0.47532015 0.46590331 0.45169334 0.43097146 0.44968409\n",
      " 0.44709385 0.46631485 0.466799   0.45568762 0.47783776 0.49253189\n",
      " 0.4810816  0.49098259 0.50163403 0.50906582 0.51659445 0.53206323\n",
      " 0.54387664 0.53516183 0.5260597  0.53063497 0.52620494 0.5437556\n",
      " 0.53934978 0.55409233 0.54833087 0.55326926 0.54804038 0.55138105\n",
      " 0.55171996 0.55096952 0.56043477 0.56404173 0.56835072 0.56157254\n",
      " 0.5837953  0.58854003 0.61403084 0.63545474 0.59444673 0.60146699\n",
      " 0.61161006 0.63361495 0.63242877 0.63276768 0.62790191 0.65005205\n",
      " 0.66859522 0.65293277 0.6645041  0.63736716 0.65709652 0.66440727\n",
      " 0.66273693 0.66273693 0.68631533 0.68350723 0.7045196  0.70848968\n",
      " 0.7101116  0.70582682 0.72112615 0.72758963 0.71594568 0.71405747\n",
      " 0.7337142  0.72056937 0.72320802 0.680336   0.67810889 0.69936333\n",
      " 0.68428188 0.70159045 0.71272604 0.81023506 0.83616161 0.84320608\n",
      " 0.84705512 0.8842383  0.8572224  0.87286064 0.84039798 0.87559612\n",
      " 0.89496236 0.89396984 0.8910649  0.90031228 0.90171633 0.92657774\n",
      " 0.98559636 1.         1.00130677 1.03436148]\n",
      "2 day output [[1.0606515]]\n",
      "[[1.0013067722320557], [1.034361481666565], [1.0606515407562256]]\n",
      "3 day input [0.40932969 0.42540367 0.43005156 0.44278487 0.47619163 0.46984919\n",
      " 0.47532015 0.46590331 0.45169334 0.43097146 0.44968409 0.44709385\n",
      " 0.46631485 0.466799   0.45568762 0.47783776 0.49253189 0.4810816\n",
      " 0.49098259 0.50163403 0.50906582 0.51659445 0.53206323 0.54387664\n",
      " 0.53516183 0.5260597  0.53063497 0.52620494 0.5437556  0.53934978\n",
      " 0.55409233 0.54833087 0.55326926 0.54804038 0.55138105 0.55171996\n",
      " 0.55096952 0.56043477 0.56404173 0.56835072 0.56157254 0.5837953\n",
      " 0.58854003 0.61403084 0.63545474 0.59444673 0.60146699 0.61161006\n",
      " 0.63361495 0.63242877 0.63276768 0.62790191 0.65005205 0.66859522\n",
      " 0.65293277 0.6645041  0.63736716 0.65709652 0.66440727 0.66273693\n",
      " 0.66273693 0.68631533 0.68350723 0.7045196  0.70848968 0.7101116\n",
      " 0.70582682 0.72112615 0.72758963 0.71594568 0.71405747 0.7337142\n",
      " 0.72056937 0.72320802 0.680336   0.67810889 0.69936333 0.68428188\n",
      " 0.70159045 0.71272604 0.81023506 0.83616161 0.84320608 0.84705512\n",
      " 0.8842383  0.8572224  0.87286064 0.84039798 0.87559612 0.89496236\n",
      " 0.89396984 0.8910649  0.90031228 0.90171633 0.92657774 0.98559636\n",
      " 1.         1.00130677 1.03436148 1.06065154]\n",
      "3 day output [[1.0822945]]\n",
      "[[1.0013067722320557], [1.034361481666565], [1.0606515407562256], [1.0822944641113281]]\n",
      "4 day input [0.42540367 0.43005156 0.44278487 0.47619163 0.46984919 0.47532015\n",
      " 0.46590331 0.45169334 0.43097146 0.44968409 0.44709385 0.46631485\n",
      " 0.466799   0.45568762 0.47783776 0.49253189 0.4810816  0.49098259\n",
      " 0.50163403 0.50906582 0.51659445 0.53206323 0.54387664 0.53516183\n",
      " 0.5260597  0.53063497 0.52620494 0.5437556  0.53934978 0.55409233\n",
      " 0.54833087 0.55326926 0.54804038 0.55138105 0.55171996 0.55096952\n",
      " 0.56043477 0.56404173 0.56835072 0.56157254 0.5837953  0.58854003\n",
      " 0.61403084 0.63545474 0.59444673 0.60146699 0.61161006 0.63361495\n",
      " 0.63242877 0.63276768 0.62790191 0.65005205 0.66859522 0.65293277\n",
      " 0.6645041  0.63736716 0.65709652 0.66440727 0.66273693 0.66273693\n",
      " 0.68631533 0.68350723 0.7045196  0.70848968 0.7101116  0.70582682\n",
      " 0.72112615 0.72758963 0.71594568 0.71405747 0.7337142  0.72056937\n",
      " 0.72320802 0.680336   0.67810889 0.69936333 0.68428188 0.70159045\n",
      " 0.71272604 0.81023506 0.83616161 0.84320608 0.84705512 0.8842383\n",
      " 0.8572224  0.87286064 0.84039798 0.87559612 0.89496236 0.89396984\n",
      " 0.8910649  0.90031228 0.90171633 0.92657774 0.98559636 1.\n",
      " 1.00130677 1.03436148 1.06065154 1.08229446]\n",
      "4 day output [[1.1009629]]\n",
      "[[1.0013067722320557], [1.034361481666565], [1.0606515407562256], [1.0822944641113281], [1.1009628772735596]]\n",
      "5 day input [0.43005156 0.44278487 0.47619163 0.46984919 0.47532015 0.46590331\n",
      " 0.45169334 0.43097146 0.44968409 0.44709385 0.46631485 0.466799\n",
      " 0.45568762 0.47783776 0.49253189 0.4810816  0.49098259 0.50163403\n",
      " 0.50906582 0.51659445 0.53206323 0.54387664 0.53516183 0.5260597\n",
      " 0.53063497 0.52620494 0.5437556  0.53934978 0.55409233 0.54833087\n",
      " 0.55326926 0.54804038 0.55138105 0.55171996 0.55096952 0.56043477\n",
      " 0.56404173 0.56835072 0.56157254 0.5837953  0.58854003 0.61403084\n",
      " 0.63545474 0.59444673 0.60146699 0.61161006 0.63361495 0.63242877\n",
      " 0.63276768 0.62790191 0.65005205 0.66859522 0.65293277 0.6645041\n",
      " 0.63736716 0.65709652 0.66440727 0.66273693 0.66273693 0.68631533\n",
      " 0.68350723 0.7045196  0.70848968 0.7101116  0.70582682 0.72112615\n",
      " 0.72758963 0.71594568 0.71405747 0.7337142  0.72056937 0.72320802\n",
      " 0.680336   0.67810889 0.69936333 0.68428188 0.70159045 0.71272604\n",
      " 0.81023506 0.83616161 0.84320608 0.84705512 0.8842383  0.8572224\n",
      " 0.87286064 0.84039798 0.87559612 0.89496236 0.89396984 0.8910649\n",
      " 0.90031228 0.90171633 0.92657774 0.98559636 1.         1.00130677\n",
      " 1.03436148 1.06065154 1.08229446 1.10096288]\n",
      "5 day output [[1.1174229]]\n",
      "[[1.0013067722320557], [1.034361481666565], [1.0606515407562256], [1.0822944641113281], [1.1009628772735596], [1.1174229383468628]]\n",
      "6 day input [0.44278487 0.47619163 0.46984919 0.47532015 0.46590331 0.45169334\n",
      " 0.43097146 0.44968409 0.44709385 0.46631485 0.466799   0.45568762\n",
      " 0.47783776 0.49253189 0.4810816  0.49098259 0.50163403 0.50906582\n",
      " 0.51659445 0.53206323 0.54387664 0.53516183 0.5260597  0.53063497\n",
      " 0.52620494 0.5437556  0.53934978 0.55409233 0.54833087 0.55326926\n",
      " 0.54804038 0.55138105 0.55171996 0.55096952 0.56043477 0.56404173\n",
      " 0.56835072 0.56157254 0.5837953  0.58854003 0.61403084 0.63545474\n",
      " 0.59444673 0.60146699 0.61161006 0.63361495 0.63242877 0.63276768\n",
      " 0.62790191 0.65005205 0.66859522 0.65293277 0.6645041  0.63736716\n",
      " 0.65709652 0.66440727 0.66273693 0.66273693 0.68631533 0.68350723\n",
      " 0.7045196  0.70848968 0.7101116  0.70582682 0.72112615 0.72758963\n",
      " 0.71594568 0.71405747 0.7337142  0.72056937 0.72320802 0.680336\n",
      " 0.67810889 0.69936333 0.68428188 0.70159045 0.71272604 0.81023506\n",
      " 0.83616161 0.84320608 0.84705512 0.8842383  0.8572224  0.87286064\n",
      " 0.84039798 0.87559612 0.89496236 0.89396984 0.8910649  0.90031228\n",
      " 0.90171633 0.92657774 0.98559636 1.         1.00130677 1.03436148\n",
      " 1.06065154 1.08229446 1.10096288 1.11742294]\n",
      "6 day output [[1.1319904]]\n",
      "[[1.0013067722320557], [1.034361481666565], [1.0606515407562256], [1.0822944641113281], [1.1009628772735596], [1.1174229383468628], [1.1319904327392578]]\n",
      "7 day input [0.47619163 0.46984919 0.47532015 0.46590331 0.45169334 0.43097146\n",
      " 0.44968409 0.44709385 0.46631485 0.466799   0.45568762 0.47783776\n",
      " 0.49253189 0.4810816  0.49098259 0.50163403 0.50906582 0.51659445\n",
      " 0.53206323 0.54387664 0.53516183 0.5260597  0.53063497 0.52620494\n",
      " 0.5437556  0.53934978 0.55409233 0.54833087 0.55326926 0.54804038\n",
      " 0.55138105 0.55171996 0.55096952 0.56043477 0.56404173 0.56835072\n",
      " 0.56157254 0.5837953  0.58854003 0.61403084 0.63545474 0.59444673\n",
      " 0.60146699 0.61161006 0.63361495 0.63242877 0.63276768 0.62790191\n",
      " 0.65005205 0.66859522 0.65293277 0.6645041  0.63736716 0.65709652\n",
      " 0.66440727 0.66273693 0.66273693 0.68631533 0.68350723 0.7045196\n",
      " 0.70848968 0.7101116  0.70582682 0.72112615 0.72758963 0.71594568\n",
      " 0.71405747 0.7337142  0.72056937 0.72320802 0.680336   0.67810889\n",
      " 0.69936333 0.68428188 0.70159045 0.71272604 0.81023506 0.83616161\n",
      " 0.84320608 0.84705512 0.8842383  0.8572224  0.87286064 0.84039798\n",
      " 0.87559612 0.89496236 0.89396984 0.8910649  0.90031228 0.90171633\n",
      " 0.92657774 0.98559636 1.         1.00130677 1.03436148 1.06065154\n",
      " 1.08229446 1.10096288 1.11742294 1.13199043]\n",
      "7 day output [[1.1449641]]\n",
      "[[1.0013067722320557], [1.034361481666565], [1.0606515407562256], [1.0822944641113281], [1.1009628772735596], [1.1174229383468628], [1.1319904327392578], [1.1449640989303589]]\n",
      "8 day input [0.46984919 0.47532015 0.46590331 0.45169334 0.43097146 0.44968409\n",
      " 0.44709385 0.46631485 0.466799   0.45568762 0.47783776 0.49253189\n",
      " 0.4810816  0.49098259 0.50163403 0.50906582 0.51659445 0.53206323\n",
      " 0.54387664 0.53516183 0.5260597  0.53063497 0.52620494 0.5437556\n",
      " 0.53934978 0.55409233 0.54833087 0.55326926 0.54804038 0.55138105\n",
      " 0.55171996 0.55096952 0.56043477 0.56404173 0.56835072 0.56157254\n",
      " 0.5837953  0.58854003 0.61403084 0.63545474 0.59444673 0.60146699\n",
      " 0.61161006 0.63361495 0.63242877 0.63276768 0.62790191 0.65005205\n",
      " 0.66859522 0.65293277 0.6645041  0.63736716 0.65709652 0.66440727\n",
      " 0.66273693 0.66273693 0.68631533 0.68350723 0.7045196  0.70848968\n",
      " 0.7101116  0.70582682 0.72112615 0.72758963 0.71594568 0.71405747\n",
      " 0.7337142  0.72056937 0.72320802 0.680336   0.67810889 0.69936333\n",
      " 0.68428188 0.70159045 0.71272604 0.81023506 0.83616161 0.84320608\n",
      " 0.84705512 0.8842383  0.8572224  0.87286064 0.84039798 0.87559612\n",
      " 0.89496236 0.89396984 0.8910649  0.90031228 0.90171633 0.92657774\n",
      " 0.98559636 1.         1.00130677 1.03436148 1.06065154 1.08229446\n",
      " 1.10096288 1.11742294 1.13199043 1.1449641 ]\n",
      "8 day output [[1.1568108]]\n",
      "[[1.0013067722320557], [1.034361481666565], [1.0606515407562256], [1.0822944641113281], [1.1009628772735596], [1.1174229383468628], [1.1319904327392578], [1.1449640989303589], [1.1568107604980469]]\n",
      "9 day input [0.47532015 0.46590331 0.45169334 0.43097146 0.44968409 0.44709385\n",
      " 0.46631485 0.466799   0.45568762 0.47783776 0.49253189 0.4810816\n",
      " 0.49098259 0.50163403 0.50906582 0.51659445 0.53206323 0.54387664\n",
      " 0.53516183 0.5260597  0.53063497 0.52620494 0.5437556  0.53934978\n",
      " 0.55409233 0.54833087 0.55326926 0.54804038 0.55138105 0.55171996\n",
      " 0.55096952 0.56043477 0.56404173 0.56835072 0.56157254 0.5837953\n",
      " 0.58854003 0.61403084 0.63545474 0.59444673 0.60146699 0.61161006\n",
      " 0.63361495 0.63242877 0.63276768 0.62790191 0.65005205 0.66859522\n",
      " 0.65293277 0.6645041  0.63736716 0.65709652 0.66440727 0.66273693\n",
      " 0.66273693 0.68631533 0.68350723 0.7045196  0.70848968 0.7101116\n",
      " 0.70582682 0.72112615 0.72758963 0.71594568 0.71405747 0.7337142\n",
      " 0.72056937 0.72320802 0.680336   0.67810889 0.69936333 0.68428188\n",
      " 0.70159045 0.71272604 0.81023506 0.83616161 0.84320608 0.84705512\n",
      " 0.8842383  0.8572224  0.87286064 0.84039798 0.87559612 0.89496236\n",
      " 0.89396984 0.8910649  0.90031228 0.90171633 0.92657774 0.98559636\n",
      " 1.         1.00130677 1.03436148 1.06065154 1.08229446 1.10096288\n",
      " 1.11742294 1.13199043 1.1449641  1.15681076]\n",
      "9 day output [[1.1681681]]\n",
      "[[1.0013067722320557], [1.034361481666565], [1.0606515407562256], [1.0822944641113281], [1.1009628772735596], [1.1174229383468628], [1.1319904327392578], [1.1449640989303589], [1.1568107604980469], [1.168168067932129]]\n",
      "10 day input [0.46590331 0.45169334 0.43097146 0.44968409 0.44709385 0.46631485\n",
      " 0.466799   0.45568762 0.47783776 0.49253189 0.4810816  0.49098259\n",
      " 0.50163403 0.50906582 0.51659445 0.53206323 0.54387664 0.53516183\n",
      " 0.5260597  0.53063497 0.52620494 0.5437556  0.53934978 0.55409233\n",
      " 0.54833087 0.55326926 0.54804038 0.55138105 0.55171996 0.55096952\n",
      " 0.56043477 0.56404173 0.56835072 0.56157254 0.5837953  0.58854003\n",
      " 0.61403084 0.63545474 0.59444673 0.60146699 0.61161006 0.63361495\n",
      " 0.63242877 0.63276768 0.62790191 0.65005205 0.66859522 0.65293277\n",
      " 0.6645041  0.63736716 0.65709652 0.66440727 0.66273693 0.66273693\n",
      " 0.68631533 0.68350723 0.7045196  0.70848968 0.7101116  0.70582682\n",
      " 0.72112615 0.72758963 0.71594568 0.71405747 0.7337142  0.72056937\n",
      " 0.72320802 0.680336   0.67810889 0.69936333 0.68428188 0.70159045\n",
      " 0.71272604 0.81023506 0.83616161 0.84320608 0.84705512 0.8842383\n",
      " 0.8572224  0.87286064 0.84039798 0.87559612 0.89496236 0.89396984\n",
      " 0.8910649  0.90031228 0.90171633 0.92657774 0.98559636 1.\n",
      " 1.00130677 1.03436148 1.06065154 1.08229446 1.10096288 1.11742294\n",
      " 1.13199043 1.1449641  1.15681076 1.16816807]\n"
     ]
    },
    {
     "name": "stdout",
     "output_type": "stream",
     "text": [
      "10 day output [[1.17977]]\n",
      "[[1.0013067722320557], [1.034361481666565], [1.0606515407562256], [1.0822944641113281], [1.1009628772735596], [1.1174229383468628], [1.1319904327392578], [1.1449640989303589], [1.1568107604980469], [1.168168067932129], [1.1797699928283691]]\n",
      "11 day input [0.45169334 0.43097146 0.44968409 0.44709385 0.46631485 0.466799\n",
      " 0.45568762 0.47783776 0.49253189 0.4810816  0.49098259 0.50163403\n",
      " 0.50906582 0.51659445 0.53206323 0.54387664 0.53516183 0.5260597\n",
      " 0.53063497 0.52620494 0.5437556  0.53934978 0.55409233 0.54833087\n",
      " 0.55326926 0.54804038 0.55138105 0.55171996 0.55096952 0.56043477\n",
      " 0.56404173 0.56835072 0.56157254 0.5837953  0.58854003 0.61403084\n",
      " 0.63545474 0.59444673 0.60146699 0.61161006 0.63361495 0.63242877\n",
      " 0.63276768 0.62790191 0.65005205 0.66859522 0.65293277 0.6645041\n",
      " 0.63736716 0.65709652 0.66440727 0.66273693 0.66273693 0.68631533\n",
      " 0.68350723 0.7045196  0.70848968 0.7101116  0.70582682 0.72112615\n",
      " 0.72758963 0.71594568 0.71405747 0.7337142  0.72056937 0.72320802\n",
      " 0.680336   0.67810889 0.69936333 0.68428188 0.70159045 0.71272604\n",
      " 0.81023506 0.83616161 0.84320608 0.84705512 0.8842383  0.8572224\n",
      " 0.87286064 0.84039798 0.87559612 0.89496236 0.89396984 0.8910649\n",
      " 0.90031228 0.90171633 0.92657774 0.98559636 1.         1.00130677\n",
      " 1.03436148 1.06065154 1.08229446 1.10096288 1.11742294 1.13199043\n",
      " 1.1449641  1.15681076 1.16816807 1.17976999]\n",
      "11 day output [[1.1923606]]\n",
      "[[1.0013067722320557], [1.034361481666565], [1.0606515407562256], [1.0822944641113281], [1.1009628772735596], [1.1174229383468628], [1.1319904327392578], [1.1449640989303589], [1.1568107604980469], [1.168168067932129], [1.1797699928283691], [1.1923606395721436]]\n",
      "12 day input [0.43097146 0.44968409 0.44709385 0.46631485 0.466799   0.45568762\n",
      " 0.47783776 0.49253189 0.4810816  0.49098259 0.50163403 0.50906582\n",
      " 0.51659445 0.53206323 0.54387664 0.53516183 0.5260597  0.53063497\n",
      " 0.52620494 0.5437556  0.53934978 0.55409233 0.54833087 0.55326926\n",
      " 0.54804038 0.55138105 0.55171996 0.55096952 0.56043477 0.56404173\n",
      " 0.56835072 0.56157254 0.5837953  0.58854003 0.61403084 0.63545474\n",
      " 0.59444673 0.60146699 0.61161006 0.63361495 0.63242877 0.63276768\n",
      " 0.62790191 0.65005205 0.66859522 0.65293277 0.6645041  0.63736716\n",
      " 0.65709652 0.66440727 0.66273693 0.66273693 0.68631533 0.68350723\n",
      " 0.7045196  0.70848968 0.7101116  0.70582682 0.72112615 0.72758963\n",
      " 0.71594568 0.71405747 0.7337142  0.72056937 0.72320802 0.680336\n",
      " 0.67810889 0.69936333 0.68428188 0.70159045 0.71272604 0.81023506\n",
      " 0.83616161 0.84320608 0.84705512 0.8842383  0.8572224  0.87286064\n",
      " 0.84039798 0.87559612 0.89496236 0.89396984 0.8910649  0.90031228\n",
      " 0.90171633 0.92657774 0.98559636 1.         1.00130677 1.03436148\n",
      " 1.06065154 1.08229446 1.10096288 1.11742294 1.13199043 1.1449641\n",
      " 1.15681076 1.16816807 1.17976999 1.19236064]\n",
      "12 day output [[1.2066176]]\n",
      "[[1.0013067722320557], [1.034361481666565], [1.0606515407562256], [1.0822944641113281], [1.1009628772735596], [1.1174229383468628], [1.1319904327392578], [1.1449640989303589], [1.1568107604980469], [1.168168067932129], [1.1797699928283691], [1.1923606395721436], [1.2066175937652588]]\n",
      "13 day input [0.44968409 0.44709385 0.46631485 0.466799   0.45568762 0.47783776\n",
      " 0.49253189 0.4810816  0.49098259 0.50163403 0.50906582 0.51659445\n",
      " 0.53206323 0.54387664 0.53516183 0.5260597  0.53063497 0.52620494\n",
      " 0.5437556  0.53934978 0.55409233 0.54833087 0.55326926 0.54804038\n",
      " 0.55138105 0.55171996 0.55096952 0.56043477 0.56404173 0.56835072\n",
      " 0.56157254 0.5837953  0.58854003 0.61403084 0.63545474 0.59444673\n",
      " 0.60146699 0.61161006 0.63361495 0.63242877 0.63276768 0.62790191\n",
      " 0.65005205 0.66859522 0.65293277 0.6645041  0.63736716 0.65709652\n",
      " 0.66440727 0.66273693 0.66273693 0.68631533 0.68350723 0.7045196\n",
      " 0.70848968 0.7101116  0.70582682 0.72112615 0.72758963 0.71594568\n",
      " 0.71405747 0.7337142  0.72056937 0.72320802 0.680336   0.67810889\n",
      " 0.69936333 0.68428188 0.70159045 0.71272604 0.81023506 0.83616161\n",
      " 0.84320608 0.84705512 0.8842383  0.8572224  0.87286064 0.84039798\n",
      " 0.87559612 0.89496236 0.89396984 0.8910649  0.90031228 0.90171633\n",
      " 0.92657774 0.98559636 1.         1.00130677 1.03436148 1.06065154\n",
      " 1.08229446 1.10096288 1.11742294 1.13199043 1.1449641  1.15681076\n",
      " 1.16816807 1.17976999 1.19236064 1.20661759]\n",
      "13 day output [[1.2230943]]\n",
      "[[1.0013067722320557], [1.034361481666565], [1.0606515407562256], [1.0822944641113281], [1.1009628772735596], [1.1174229383468628], [1.1319904327392578], [1.1449640989303589], [1.1568107604980469], [1.168168067932129], [1.1797699928283691], [1.1923606395721436], [1.2066175937652588], [1.2230943441390991]]\n",
      "14 day input [0.44709385 0.46631485 0.466799   0.45568762 0.47783776 0.49253189\n",
      " 0.4810816  0.49098259 0.50163403 0.50906582 0.51659445 0.53206323\n",
      " 0.54387664 0.53516183 0.5260597  0.53063497 0.52620494 0.5437556\n",
      " 0.53934978 0.55409233 0.54833087 0.55326926 0.54804038 0.55138105\n",
      " 0.55171996 0.55096952 0.56043477 0.56404173 0.56835072 0.56157254\n",
      " 0.5837953  0.58854003 0.61403084 0.63545474 0.59444673 0.60146699\n",
      " 0.61161006 0.63361495 0.63242877 0.63276768 0.62790191 0.65005205\n",
      " 0.66859522 0.65293277 0.6645041  0.63736716 0.65709652 0.66440727\n",
      " 0.66273693 0.66273693 0.68631533 0.68350723 0.7045196  0.70848968\n",
      " 0.7101116  0.70582682 0.72112615 0.72758963 0.71594568 0.71405747\n",
      " 0.7337142  0.72056937 0.72320802 0.680336   0.67810889 0.69936333\n",
      " 0.68428188 0.70159045 0.71272604 0.81023506 0.83616161 0.84320608\n",
      " 0.84705512 0.8842383  0.8572224  0.87286064 0.84039798 0.87559612\n",
      " 0.89496236 0.89396984 0.8910649  0.90031228 0.90171633 0.92657774\n",
      " 0.98559636 1.         1.00130677 1.03436148 1.06065154 1.08229446\n",
      " 1.10096288 1.11742294 1.13199043 1.1449641  1.15681076 1.16816807\n",
      " 1.17976999 1.19236064 1.20661759 1.22309434]\n",
      "14 day output [[1.2421802]]\n",
      "[[1.0013067722320557], [1.034361481666565], [1.0606515407562256], [1.0822944641113281], [1.1009628772735596], [1.1174229383468628], [1.1319904327392578], [1.1449640989303589], [1.1568107604980469], [1.168168067932129], [1.1797699928283691], [1.1923606395721436], [1.2066175937652588], [1.2230943441390991], [1.2421802282333374]]\n",
      "15 day input [0.46631485 0.466799   0.45568762 0.47783776 0.49253189 0.4810816\n",
      " 0.49098259 0.50163403 0.50906582 0.51659445 0.53206323 0.54387664\n",
      " 0.53516183 0.5260597  0.53063497 0.52620494 0.5437556  0.53934978\n",
      " 0.55409233 0.54833087 0.55326926 0.54804038 0.55138105 0.55171996\n",
      " 0.55096952 0.56043477 0.56404173 0.56835072 0.56157254 0.5837953\n",
      " 0.58854003 0.61403084 0.63545474 0.59444673 0.60146699 0.61161006\n",
      " 0.63361495 0.63242877 0.63276768 0.62790191 0.65005205 0.66859522\n",
      " 0.65293277 0.6645041  0.63736716 0.65709652 0.66440727 0.66273693\n",
      " 0.66273693 0.68631533 0.68350723 0.7045196  0.70848968 0.7101116\n",
      " 0.70582682 0.72112615 0.72758963 0.71594568 0.71405747 0.7337142\n",
      " 0.72056937 0.72320802 0.680336   0.67810889 0.69936333 0.68428188\n",
      " 0.70159045 0.71272604 0.81023506 0.83616161 0.84320608 0.84705512\n",
      " 0.8842383  0.8572224  0.87286064 0.84039798 0.87559612 0.89496236\n",
      " 0.89396984 0.8910649  0.90031228 0.90171633 0.92657774 0.98559636\n",
      " 1.         1.00130677 1.03436148 1.06065154 1.08229446 1.10096288\n",
      " 1.11742294 1.13199043 1.1449641  1.15681076 1.16816807 1.17976999\n",
      " 1.19236064 1.20661759 1.22309434 1.24218023]\n",
      "15 day output [[1.2640804]]\n",
      "[[1.0013067722320557], [1.034361481666565], [1.0606515407562256], [1.0822944641113281], [1.1009628772735596], [1.1174229383468628], [1.1319904327392578], [1.1449640989303589], [1.1568107604980469], [1.168168067932129], [1.1797699928283691], [1.1923606395721436], [1.2066175937652588], [1.2230943441390991], [1.2421802282333374], [1.2640804052352905]]\n",
      "16 day input [0.466799   0.45568762 0.47783776 0.49253189 0.4810816  0.49098259\n",
      " 0.50163403 0.50906582 0.51659445 0.53206323 0.54387664 0.53516183\n",
      " 0.5260597  0.53063497 0.52620494 0.5437556  0.53934978 0.55409233\n",
      " 0.54833087 0.55326926 0.54804038 0.55138105 0.55171996 0.55096952\n",
      " 0.56043477 0.56404173 0.56835072 0.56157254 0.5837953  0.58854003\n",
      " 0.61403084 0.63545474 0.59444673 0.60146699 0.61161006 0.63361495\n",
      " 0.63242877 0.63276768 0.62790191 0.65005205 0.66859522 0.65293277\n",
      " 0.6645041  0.63736716 0.65709652 0.66440727 0.66273693 0.66273693\n",
      " 0.68631533 0.68350723 0.7045196  0.70848968 0.7101116  0.70582682\n",
      " 0.72112615 0.72758963 0.71594568 0.71405747 0.7337142  0.72056937\n",
      " 0.72320802 0.680336   0.67810889 0.69936333 0.68428188 0.70159045\n",
      " 0.71272604 0.81023506 0.83616161 0.84320608 0.84705512 0.8842383\n",
      " 0.8572224  0.87286064 0.84039798 0.87559612 0.89496236 0.89396984\n",
      " 0.8910649  0.90031228 0.90171633 0.92657774 0.98559636 1.\n",
      " 1.00130677 1.03436148 1.06065154 1.08229446 1.10096288 1.11742294\n",
      " 1.13199043 1.1449641  1.15681076 1.16816807 1.17976999 1.19236064\n",
      " 1.20661759 1.22309434 1.24218023 1.26408041]\n",
      "16 day output [[1.2888145]]\n",
      "[[1.0013067722320557], [1.034361481666565], [1.0606515407562256], [1.0822944641113281], [1.1009628772735596], [1.1174229383468628], [1.1319904327392578], [1.1449640989303589], [1.1568107604980469], [1.168168067932129], [1.1797699928283691], [1.1923606395721436], [1.2066175937652588], [1.2230943441390991], [1.2421802282333374], [1.2640804052352905], [1.2888145446777344]]\n",
      "17 day input [0.45568762 0.47783776 0.49253189 0.4810816  0.49098259 0.50163403\n",
      " 0.50906582 0.51659445 0.53206323 0.54387664 0.53516183 0.5260597\n",
      " 0.53063497 0.52620494 0.5437556  0.53934978 0.55409233 0.54833087\n",
      " 0.55326926 0.54804038 0.55138105 0.55171996 0.55096952 0.56043477\n",
      " 0.56404173 0.56835072 0.56157254 0.5837953  0.58854003 0.61403084\n",
      " 0.63545474 0.59444673 0.60146699 0.61161006 0.63361495 0.63242877\n",
      " 0.63276768 0.62790191 0.65005205 0.66859522 0.65293277 0.6645041\n",
      " 0.63736716 0.65709652 0.66440727 0.66273693 0.66273693 0.68631533\n",
      " 0.68350723 0.7045196  0.70848968 0.7101116  0.70582682 0.72112615\n",
      " 0.72758963 0.71594568 0.71405747 0.7337142  0.72056937 0.72320802\n",
      " 0.680336   0.67810889 0.69936333 0.68428188 0.70159045 0.71272604\n",
      " 0.81023506 0.83616161 0.84320608 0.84705512 0.8842383  0.8572224\n",
      " 0.87286064 0.84039798 0.87559612 0.89496236 0.89396984 0.8910649\n",
      " 0.90031228 0.90171633 0.92657774 0.98559636 1.         1.00130677\n",
      " 1.03436148 1.06065154 1.08229446 1.10096288 1.11742294 1.13199043\n",
      " 1.1449641  1.15681076 1.16816807 1.17976999 1.19236064 1.20661759\n",
      " 1.22309434 1.24218023 1.26408041 1.28881454]\n",
      "17 day output [[1.3162279]]\n",
      "[[1.0013067722320557], [1.034361481666565], [1.0606515407562256], [1.0822944641113281], [1.1009628772735596], [1.1174229383468628], [1.1319904327392578], [1.1449640989303589], [1.1568107604980469], [1.168168067932129], [1.1797699928283691], [1.1923606395721436], [1.2066175937652588], [1.2230943441390991], [1.2421802282333374], [1.2640804052352905], [1.2888145446777344], [1.316227912902832]]\n",
      "18 day input [0.47783776 0.49253189 0.4810816  0.49098259 0.50163403 0.50906582\n",
      " 0.51659445 0.53206323 0.54387664 0.53516183 0.5260597  0.53063497\n",
      " 0.52620494 0.5437556  0.53934978 0.55409233 0.54833087 0.55326926\n",
      " 0.54804038 0.55138105 0.55171996 0.55096952 0.56043477 0.56404173\n",
      " 0.56835072 0.56157254 0.5837953  0.58854003 0.61403084 0.63545474\n",
      " 0.59444673 0.60146699 0.61161006 0.63361495 0.63242877 0.63276768\n",
      " 0.62790191 0.65005205 0.66859522 0.65293277 0.6645041  0.63736716\n",
      " 0.65709652 0.66440727 0.66273693 0.66273693 0.68631533 0.68350723\n",
      " 0.7045196  0.70848968 0.7101116  0.70582682 0.72112615 0.72758963\n",
      " 0.71594568 0.71405747 0.7337142  0.72056937 0.72320802 0.680336\n",
      " 0.67810889 0.69936333 0.68428188 0.70159045 0.71272604 0.81023506\n",
      " 0.83616161 0.84320608 0.84705512 0.8842383  0.8572224  0.87286064\n",
      " 0.84039798 0.87559612 0.89496236 0.89396984 0.8910649  0.90031228\n",
      " 0.90171633 0.92657774 0.98559636 1.         1.00130677 1.03436148\n",
      " 1.06065154 1.08229446 1.10096288 1.11742294 1.13199043 1.1449641\n",
      " 1.15681076 1.16816807 1.17976999 1.19236064 1.20661759 1.22309434\n",
      " 1.24218023 1.26408041 1.28881454 1.31622791]\n",
      "18 day output [[1.3460258]]\n",
      "[[1.0013067722320557], [1.034361481666565], [1.0606515407562256], [1.0822944641113281], [1.1009628772735596], [1.1174229383468628], [1.1319904327392578], [1.1449640989303589], [1.1568107604980469], [1.168168067932129], [1.1797699928283691], [1.1923606395721436], [1.2066175937652588], [1.2230943441390991], [1.2421802282333374], [1.2640804052352905], [1.2888145446777344], [1.316227912902832], [1.346025824546814]]\n",
      "19 day input [0.49253189 0.4810816  0.49098259 0.50163403 0.50906582 0.51659445\n",
      " 0.53206323 0.54387664 0.53516183 0.5260597  0.53063497 0.52620494\n",
      " 0.5437556  0.53934978 0.55409233 0.54833087 0.55326926 0.54804038\n",
      " 0.55138105 0.55171996 0.55096952 0.56043477 0.56404173 0.56835072\n",
      " 0.56157254 0.5837953  0.58854003 0.61403084 0.63545474 0.59444673\n",
      " 0.60146699 0.61161006 0.63361495 0.63242877 0.63276768 0.62790191\n",
      " 0.65005205 0.66859522 0.65293277 0.6645041  0.63736716 0.65709652\n",
      " 0.66440727 0.66273693 0.66273693 0.68631533 0.68350723 0.7045196\n",
      " 0.70848968 0.7101116  0.70582682 0.72112615 0.72758963 0.71594568\n",
      " 0.71405747 0.7337142  0.72056937 0.72320802 0.680336   0.67810889\n",
      " 0.69936333 0.68428188 0.70159045 0.71272604 0.81023506 0.83616161\n",
      " 0.84320608 0.84705512 0.8842383  0.8572224  0.87286064 0.84039798\n",
      " 0.87559612 0.89496236 0.89396984 0.8910649  0.90031228 0.90171633\n",
      " 0.92657774 0.98559636 1.         1.00130677 1.03436148 1.06065154\n",
      " 1.08229446 1.10096288 1.11742294 1.13199043 1.1449641  1.15681076\n",
      " 1.16816807 1.17976999 1.19236064 1.20661759 1.22309434 1.24218023\n",
      " 1.26408041 1.28881454 1.31622791 1.34602582]\n",
      "19 day output [[1.3778117]]\n",
      "[[1.0013067722320557], [1.034361481666565], [1.0606515407562256], [1.0822944641113281], [1.1009628772735596], [1.1174229383468628], [1.1319904327392578], [1.1449640989303589], [1.1568107604980469], [1.168168067932129], [1.1797699928283691], [1.1923606395721436], [1.2066175937652588], [1.2230943441390991], [1.2421802282333374], [1.2640804052352905], [1.2888145446777344], [1.316227912902832], [1.346025824546814], [1.3778116703033447]]\n",
      "20 day input [0.4810816  0.49098259 0.50163403 0.50906582 0.51659445 0.53206323\n",
      " 0.54387664 0.53516183 0.5260597  0.53063497 0.52620494 0.5437556\n",
      " 0.53934978 0.55409233 0.54833087 0.55326926 0.54804038 0.55138105\n",
      " 0.55171996 0.55096952 0.56043477 0.56404173 0.56835072 0.56157254\n",
      " 0.5837953  0.58854003 0.61403084 0.63545474 0.59444673 0.60146699\n",
      " 0.61161006 0.63361495 0.63242877 0.63276768 0.62790191 0.65005205\n",
      " 0.66859522 0.65293277 0.6645041  0.63736716 0.65709652 0.66440727\n",
      " 0.66273693 0.66273693 0.68631533 0.68350723 0.7045196  0.70848968\n",
      " 0.7101116  0.70582682 0.72112615 0.72758963 0.71594568 0.71405747\n",
      " 0.7337142  0.72056937 0.72320802 0.680336   0.67810889 0.69936333\n",
      " 0.68428188 0.70159045 0.71272604 0.81023506 0.83616161 0.84320608\n",
      " 0.84705512 0.8842383  0.8572224  0.87286064 0.84039798 0.87559612\n",
      " 0.89496236 0.89396984 0.8910649  0.90031228 0.90171633 0.92657774\n",
      " 0.98559636 1.         1.00130677 1.03436148 1.06065154 1.08229446\n",
      " 1.10096288 1.11742294 1.13199043 1.1449641  1.15681076 1.16816807\n",
      " 1.17976999 1.19236064 1.20661759 1.22309434 1.24218023 1.26408041\n",
      " 1.28881454 1.31622791 1.34602582 1.37781167]\n"
     ]
    },
    {
     "name": "stdout",
     "output_type": "stream",
     "text": [
      "20 day output [[1.4111416]]\n",
      "[[1.0013067722320557], [1.034361481666565], [1.0606515407562256], [1.0822944641113281], [1.1009628772735596], [1.1174229383468628], [1.1319904327392578], [1.1449640989303589], [1.1568107604980469], [1.168168067932129], [1.1797699928283691], [1.1923606395721436], [1.2066175937652588], [1.2230943441390991], [1.2421802282333374], [1.2640804052352905], [1.2888145446777344], [1.316227912902832], [1.346025824546814], [1.3778116703033447], [1.4111416339874268]]\n",
      "21 day input [0.49098259 0.50163403 0.50906582 0.51659445 0.53206323 0.54387664\n",
      " 0.53516183 0.5260597  0.53063497 0.52620494 0.5437556  0.53934978\n",
      " 0.55409233 0.54833087 0.55326926 0.54804038 0.55138105 0.55171996\n",
      " 0.55096952 0.56043477 0.56404173 0.56835072 0.56157254 0.5837953\n",
      " 0.58854003 0.61403084 0.63545474 0.59444673 0.60146699 0.61161006\n",
      " 0.63361495 0.63242877 0.63276768 0.62790191 0.65005205 0.66859522\n",
      " 0.65293277 0.6645041  0.63736716 0.65709652 0.66440727 0.66273693\n",
      " 0.66273693 0.68631533 0.68350723 0.7045196  0.70848968 0.7101116\n",
      " 0.70582682 0.72112615 0.72758963 0.71594568 0.71405747 0.7337142\n",
      " 0.72056937 0.72320802 0.680336   0.67810889 0.69936333 0.68428188\n",
      " 0.70159045 0.71272604 0.81023506 0.83616161 0.84320608 0.84705512\n",
      " 0.8842383  0.8572224  0.87286064 0.84039798 0.87559612 0.89496236\n",
      " 0.89396984 0.8910649  0.90031228 0.90171633 0.92657774 0.98559636\n",
      " 1.         1.00130677 1.03436148 1.06065154 1.08229446 1.10096288\n",
      " 1.11742294 1.13199043 1.1449641  1.15681076 1.16816807 1.17976999\n",
      " 1.19236064 1.20661759 1.22309434 1.24218023 1.26408041 1.28881454\n",
      " 1.31622791 1.34602582 1.37781167 1.41114163]\n",
      "21 day output [[1.445572]]\n",
      "[[1.0013067722320557], [1.034361481666565], [1.0606515407562256], [1.0822944641113281], [1.1009628772735596], [1.1174229383468628], [1.1319904327392578], [1.1449640989303589], [1.1568107604980469], [1.168168067932129], [1.1797699928283691], [1.1923606395721436], [1.2066175937652588], [1.2230943441390991], [1.2421802282333374], [1.2640804052352905], [1.2888145446777344], [1.316227912902832], [1.346025824546814], [1.3778116703033447], [1.4111416339874268], [1.445572018623352]]\n",
      "22 day input [0.50163403 0.50906582 0.51659445 0.53206323 0.54387664 0.53516183\n",
      " 0.5260597  0.53063497 0.52620494 0.5437556  0.53934978 0.55409233\n",
      " 0.54833087 0.55326926 0.54804038 0.55138105 0.55171996 0.55096952\n",
      " 0.56043477 0.56404173 0.56835072 0.56157254 0.5837953  0.58854003\n",
      " 0.61403084 0.63545474 0.59444673 0.60146699 0.61161006 0.63361495\n",
      " 0.63242877 0.63276768 0.62790191 0.65005205 0.66859522 0.65293277\n",
      " 0.6645041  0.63736716 0.65709652 0.66440727 0.66273693 0.66273693\n",
      " 0.68631533 0.68350723 0.7045196  0.70848968 0.7101116  0.70582682\n",
      " 0.72112615 0.72758963 0.71594568 0.71405747 0.7337142  0.72056937\n",
      " 0.72320802 0.680336   0.67810889 0.69936333 0.68428188 0.70159045\n",
      " 0.71272604 0.81023506 0.83616161 0.84320608 0.84705512 0.8842383\n",
      " 0.8572224  0.87286064 0.84039798 0.87559612 0.89496236 0.89396984\n",
      " 0.8910649  0.90031228 0.90171633 0.92657774 0.98559636 1.\n",
      " 1.00130677 1.03436148 1.06065154 1.08229446 1.10096288 1.11742294\n",
      " 1.13199043 1.1449641  1.15681076 1.16816807 1.17976999 1.19236064\n",
      " 1.20661759 1.22309434 1.24218023 1.26408041 1.28881454 1.31622791\n",
      " 1.34602582 1.37781167 1.41114163 1.44557202]\n",
      "22 day output [[1.4807119]]\n",
      "[[1.0013067722320557], [1.034361481666565], [1.0606515407562256], [1.0822944641113281], [1.1009628772735596], [1.1174229383468628], [1.1319904327392578], [1.1449640989303589], [1.1568107604980469], [1.168168067932129], [1.1797699928283691], [1.1923606395721436], [1.2066175937652588], [1.2230943441390991], [1.2421802282333374], [1.2640804052352905], [1.2888145446777344], [1.316227912902832], [1.346025824546814], [1.3778116703033447], [1.4111416339874268], [1.445572018623352], [1.4807119369506836]]\n",
      "23 day input [0.50906582 0.51659445 0.53206323 0.54387664 0.53516183 0.5260597\n",
      " 0.53063497 0.52620494 0.5437556  0.53934978 0.55409233 0.54833087\n",
      " 0.55326926 0.54804038 0.55138105 0.55171996 0.55096952 0.56043477\n",
      " 0.56404173 0.56835072 0.56157254 0.5837953  0.58854003 0.61403084\n",
      " 0.63545474 0.59444673 0.60146699 0.61161006 0.63361495 0.63242877\n",
      " 0.63276768 0.62790191 0.65005205 0.66859522 0.65293277 0.6645041\n",
      " 0.63736716 0.65709652 0.66440727 0.66273693 0.66273693 0.68631533\n",
      " 0.68350723 0.7045196  0.70848968 0.7101116  0.70582682 0.72112615\n",
      " 0.72758963 0.71594568 0.71405747 0.7337142  0.72056937 0.72320802\n",
      " 0.680336   0.67810889 0.69936333 0.68428188 0.70159045 0.71272604\n",
      " 0.81023506 0.83616161 0.84320608 0.84705512 0.8842383  0.8572224\n",
      " 0.87286064 0.84039798 0.87559612 0.89496236 0.89396984 0.8910649\n",
      " 0.90031228 0.90171633 0.92657774 0.98559636 1.         1.00130677\n",
      " 1.03436148 1.06065154 1.08229446 1.10096288 1.11742294 1.13199043\n",
      " 1.1449641  1.15681076 1.16816807 1.17976999 1.19236064 1.20661759\n",
      " 1.22309434 1.24218023 1.26408041 1.28881454 1.31622791 1.34602582\n",
      " 1.37781167 1.41114163 1.44557202 1.48071194]\n",
      "23 day output [[1.51626]]\n",
      "[[1.0013067722320557], [1.034361481666565], [1.0606515407562256], [1.0822944641113281], [1.1009628772735596], [1.1174229383468628], [1.1319904327392578], [1.1449640989303589], [1.1568107604980469], [1.168168067932129], [1.1797699928283691], [1.1923606395721436], [1.2066175937652588], [1.2230943441390991], [1.2421802282333374], [1.2640804052352905], [1.2888145446777344], [1.316227912902832], [1.346025824546814], [1.3778116703033447], [1.4111416339874268], [1.445572018623352], [1.4807119369506836], [1.516260027885437]]\n",
      "24 day input [0.51659445 0.53206323 0.54387664 0.53516183 0.5260597  0.53063497\n",
      " 0.52620494 0.5437556  0.53934978 0.55409233 0.54833087 0.55326926\n",
      " 0.54804038 0.55138105 0.55171996 0.55096952 0.56043477 0.56404173\n",
      " 0.56835072 0.56157254 0.5837953  0.58854003 0.61403084 0.63545474\n",
      " 0.59444673 0.60146699 0.61161006 0.63361495 0.63242877 0.63276768\n",
      " 0.62790191 0.65005205 0.66859522 0.65293277 0.6645041  0.63736716\n",
      " 0.65709652 0.66440727 0.66273693 0.66273693 0.68631533 0.68350723\n",
      " 0.7045196  0.70848968 0.7101116  0.70582682 0.72112615 0.72758963\n",
      " 0.71594568 0.71405747 0.7337142  0.72056937 0.72320802 0.680336\n",
      " 0.67810889 0.69936333 0.68428188 0.70159045 0.71272604 0.81023506\n",
      " 0.83616161 0.84320608 0.84705512 0.8842383  0.8572224  0.87286064\n",
      " 0.84039798 0.87559612 0.89496236 0.89396984 0.8910649  0.90031228\n",
      " 0.90171633 0.92657774 0.98559636 1.         1.00130677 1.03436148\n",
      " 1.06065154 1.08229446 1.10096288 1.11742294 1.13199043 1.1449641\n",
      " 1.15681076 1.16816807 1.17976999 1.19236064 1.20661759 1.22309434\n",
      " 1.24218023 1.26408041 1.28881454 1.31622791 1.34602582 1.37781167\n",
      " 1.41114163 1.44557202 1.48071194 1.51626003]\n",
      "24 day output [[1.5520343]]\n",
      "[[1.0013067722320557], [1.034361481666565], [1.0606515407562256], [1.0822944641113281], [1.1009628772735596], [1.1174229383468628], [1.1319904327392578], [1.1449640989303589], [1.1568107604980469], [1.168168067932129], [1.1797699928283691], [1.1923606395721436], [1.2066175937652588], [1.2230943441390991], [1.2421802282333374], [1.2640804052352905], [1.2888145446777344], [1.316227912902832], [1.346025824546814], [1.3778116703033447], [1.4111416339874268], [1.445572018623352], [1.4807119369506836], [1.516260027885437], [1.5520342588424683]]\n",
      "25 day input [0.53206323 0.54387664 0.53516183 0.5260597  0.53063497 0.52620494\n",
      " 0.5437556  0.53934978 0.55409233 0.54833087 0.55326926 0.54804038\n",
      " 0.55138105 0.55171996 0.55096952 0.56043477 0.56404173 0.56835072\n",
      " 0.56157254 0.5837953  0.58854003 0.61403084 0.63545474 0.59444673\n",
      " 0.60146699 0.61161006 0.63361495 0.63242877 0.63276768 0.62790191\n",
      " 0.65005205 0.66859522 0.65293277 0.6645041  0.63736716 0.65709652\n",
      " 0.66440727 0.66273693 0.66273693 0.68631533 0.68350723 0.7045196\n",
      " 0.70848968 0.7101116  0.70582682 0.72112615 0.72758963 0.71594568\n",
      " 0.71405747 0.7337142  0.72056937 0.72320802 0.680336   0.67810889\n",
      " 0.69936333 0.68428188 0.70159045 0.71272604 0.81023506 0.83616161\n",
      " 0.84320608 0.84705512 0.8842383  0.8572224  0.87286064 0.84039798\n",
      " 0.87559612 0.89496236 0.89396984 0.8910649  0.90031228 0.90171633\n",
      " 0.92657774 0.98559636 1.         1.00130677 1.03436148 1.06065154\n",
      " 1.08229446 1.10096288 1.11742294 1.13199043 1.1449641  1.15681076\n",
      " 1.16816807 1.17976999 1.19236064 1.20661759 1.22309434 1.24218023\n",
      " 1.26408041 1.28881454 1.31622791 1.34602582 1.37781167 1.41114163\n",
      " 1.44557202 1.48071194 1.51626003 1.55203426]\n"
     ]
    },
    {
     "name": "stdout",
     "output_type": "stream",
     "text": [
      "25 day output [[1.5879773]]\n",
      "[[1.0013067722320557], [1.034361481666565], [1.0606515407562256], [1.0822944641113281], [1.1009628772735596], [1.1174229383468628], [1.1319904327392578], [1.1449640989303589], [1.1568107604980469], [1.168168067932129], [1.1797699928283691], [1.1923606395721436], [1.2066175937652588], [1.2230943441390991], [1.2421802282333374], [1.2640804052352905], [1.2888145446777344], [1.316227912902832], [1.346025824546814], [1.3778116703033447], [1.4111416339874268], [1.445572018623352], [1.4807119369506836], [1.516260027885437], [1.5520342588424683], [1.5879772901535034]]\n",
      "26 day input [0.54387664 0.53516183 0.5260597  0.53063497 0.52620494 0.5437556\n",
      " 0.53934978 0.55409233 0.54833087 0.55326926 0.54804038 0.55138105\n",
      " 0.55171996 0.55096952 0.56043477 0.56404173 0.56835072 0.56157254\n",
      " 0.5837953  0.58854003 0.61403084 0.63545474 0.59444673 0.60146699\n",
      " 0.61161006 0.63361495 0.63242877 0.63276768 0.62790191 0.65005205\n",
      " 0.66859522 0.65293277 0.6645041  0.63736716 0.65709652 0.66440727\n",
      " 0.66273693 0.66273693 0.68631533 0.68350723 0.7045196  0.70848968\n",
      " 0.7101116  0.70582682 0.72112615 0.72758963 0.71594568 0.71405747\n",
      " 0.7337142  0.72056937 0.72320802 0.680336   0.67810889 0.69936333\n",
      " 0.68428188 0.70159045 0.71272604 0.81023506 0.83616161 0.84320608\n",
      " 0.84705512 0.8842383  0.8572224  0.87286064 0.84039798 0.87559612\n",
      " 0.89496236 0.89396984 0.8910649  0.90031228 0.90171633 0.92657774\n",
      " 0.98559636 1.         1.00130677 1.03436148 1.06065154 1.08229446\n",
      " 1.10096288 1.11742294 1.13199043 1.1449641  1.15681076 1.16816807\n",
      " 1.17976999 1.19236064 1.20661759 1.22309434 1.24218023 1.26408041\n",
      " 1.28881454 1.31622791 1.34602582 1.37781167 1.41114163 1.44557202\n",
      " 1.48071194 1.51626003 1.55203426 1.58797729]\n",
      "26 day output [[1.6241515]]\n",
      "[[1.0013067722320557], [1.034361481666565], [1.0606515407562256], [1.0822944641113281], [1.1009628772735596], [1.1174229383468628], [1.1319904327392578], [1.1449640989303589], [1.1568107604980469], [1.168168067932129], [1.1797699928283691], [1.1923606395721436], [1.2066175937652588], [1.2230943441390991], [1.2421802282333374], [1.2640804052352905], [1.2888145446777344], [1.316227912902832], [1.346025824546814], [1.3778116703033447], [1.4111416339874268], [1.445572018623352], [1.4807119369506836], [1.516260027885437], [1.5520342588424683], [1.5879772901535034], [1.6241514682769775]]\n",
      "27 day input [0.53516183 0.5260597  0.53063497 0.52620494 0.5437556  0.53934978\n",
      " 0.55409233 0.54833087 0.55326926 0.54804038 0.55138105 0.55171996\n",
      " 0.55096952 0.56043477 0.56404173 0.56835072 0.56157254 0.5837953\n",
      " 0.58854003 0.61403084 0.63545474 0.59444673 0.60146699 0.61161006\n",
      " 0.63361495 0.63242877 0.63276768 0.62790191 0.65005205 0.66859522\n",
      " 0.65293277 0.6645041  0.63736716 0.65709652 0.66440727 0.66273693\n",
      " 0.66273693 0.68631533 0.68350723 0.7045196  0.70848968 0.7101116\n",
      " 0.70582682 0.72112615 0.72758963 0.71594568 0.71405747 0.7337142\n",
      " 0.72056937 0.72320802 0.680336   0.67810889 0.69936333 0.68428188\n",
      " 0.70159045 0.71272604 0.81023506 0.83616161 0.84320608 0.84705512\n",
      " 0.8842383  0.8572224  0.87286064 0.84039798 0.87559612 0.89496236\n",
      " 0.89396984 0.8910649  0.90031228 0.90171633 0.92657774 0.98559636\n",
      " 1.         1.00130677 1.03436148 1.06065154 1.08229446 1.10096288\n",
      " 1.11742294 1.13199043 1.1449641  1.15681076 1.16816807 1.17976999\n",
      " 1.19236064 1.20661759 1.22309434 1.24218023 1.26408041 1.28881454\n",
      " 1.31622791 1.34602582 1.37781167 1.41114163 1.44557202 1.48071194\n",
      " 1.51626003 1.55203426 1.58797729 1.62415147]\n",
      "27 day output [[1.6607121]]\n",
      "[[1.0013067722320557], [1.034361481666565], [1.0606515407562256], [1.0822944641113281], [1.1009628772735596], [1.1174229383468628], [1.1319904327392578], [1.1449640989303589], [1.1568107604980469], [1.168168067932129], [1.1797699928283691], [1.1923606395721436], [1.2066175937652588], [1.2230943441390991], [1.2421802282333374], [1.2640804052352905], [1.2888145446777344], [1.316227912902832], [1.346025824546814], [1.3778116703033447], [1.4111416339874268], [1.445572018623352], [1.4807119369506836], [1.516260027885437], [1.5520342588424683], [1.5879772901535034], [1.6241514682769775], [1.6607121229171753]]\n",
      "28 day input [0.5260597  0.53063497 0.52620494 0.5437556  0.53934978 0.55409233\n",
      " 0.54833087 0.55326926 0.54804038 0.55138105 0.55171996 0.55096952\n",
      " 0.56043477 0.56404173 0.56835072 0.56157254 0.5837953  0.58854003\n",
      " 0.61403084 0.63545474 0.59444673 0.60146699 0.61161006 0.63361495\n",
      " 0.63242877 0.63276768 0.62790191 0.65005205 0.66859522 0.65293277\n",
      " 0.6645041  0.63736716 0.65709652 0.66440727 0.66273693 0.66273693\n",
      " 0.68631533 0.68350723 0.7045196  0.70848968 0.7101116  0.70582682\n",
      " 0.72112615 0.72758963 0.71594568 0.71405747 0.7337142  0.72056937\n",
      " 0.72320802 0.680336   0.67810889 0.69936333 0.68428188 0.70159045\n",
      " 0.71272604 0.81023506 0.83616161 0.84320608 0.84705512 0.8842383\n",
      " 0.8572224  0.87286064 0.84039798 0.87559612 0.89496236 0.89396984\n",
      " 0.8910649  0.90031228 0.90171633 0.92657774 0.98559636 1.\n",
      " 1.00130677 1.03436148 1.06065154 1.08229446 1.10096288 1.11742294\n",
      " 1.13199043 1.1449641  1.15681076 1.16816807 1.17976999 1.19236064\n",
      " 1.20661759 1.22309434 1.24218023 1.26408041 1.28881454 1.31622791\n",
      " 1.34602582 1.37781167 1.41114163 1.44557202 1.48071194 1.51626003\n",
      " 1.55203426 1.58797729 1.62415147 1.66071212]\n",
      "28 day output [[1.6978683]]\n",
      "[[1.0013067722320557], [1.034361481666565], [1.0606515407562256], [1.0822944641113281], [1.1009628772735596], [1.1174229383468628], [1.1319904327392578], [1.1449640989303589], [1.1568107604980469], [1.168168067932129], [1.1797699928283691], [1.1923606395721436], [1.2066175937652588], [1.2230943441390991], [1.2421802282333374], [1.2640804052352905], [1.2888145446777344], [1.316227912902832], [1.346025824546814], [1.3778116703033447], [1.4111416339874268], [1.445572018623352], [1.4807119369506836], [1.516260027885437], [1.5520342588424683], [1.5879772901535034], [1.6241514682769775], [1.6607121229171753], [1.6978683471679688]]\n",
      "29 day input [0.53063497 0.52620494 0.5437556  0.53934978 0.55409233 0.54833087\n",
      " 0.55326926 0.54804038 0.55138105 0.55171996 0.55096952 0.56043477\n",
      " 0.56404173 0.56835072 0.56157254 0.5837953  0.58854003 0.61403084\n",
      " 0.63545474 0.59444673 0.60146699 0.61161006 0.63361495 0.63242877\n",
      " 0.63276768 0.62790191 0.65005205 0.66859522 0.65293277 0.6645041\n",
      " 0.63736716 0.65709652 0.66440727 0.66273693 0.66273693 0.68631533\n",
      " 0.68350723 0.7045196  0.70848968 0.7101116  0.70582682 0.72112615\n",
      " 0.72758963 0.71594568 0.71405747 0.7337142  0.72056937 0.72320802\n",
      " 0.680336   0.67810889 0.69936333 0.68428188 0.70159045 0.71272604\n",
      " 0.81023506 0.83616161 0.84320608 0.84705512 0.8842383  0.8572224\n",
      " 0.87286064 0.84039798 0.87559612 0.89496236 0.89396984 0.8910649\n",
      " 0.90031228 0.90171633 0.92657774 0.98559636 1.         1.00130677\n",
      " 1.03436148 1.06065154 1.08229446 1.10096288 1.11742294 1.13199043\n",
      " 1.1449641  1.15681076 1.16816807 1.17976999 1.19236064 1.20661759\n",
      " 1.22309434 1.24218023 1.26408041 1.28881454 1.31622791 1.34602582\n",
      " 1.37781167 1.41114163 1.44557202 1.48071194 1.51626003 1.55203426\n",
      " 1.58797729 1.62415147 1.66071212 1.69786835]\n",
      "29 day output [[1.7358358]]\n",
      "[[1.0013067722320557], [1.034361481666565], [1.0606515407562256], [1.0822944641113281], [1.1009628772735596], [1.1174229383468628], [1.1319904327392578], [1.1449640989303589], [1.1568107604980469], [1.168168067932129], [1.1797699928283691], [1.1923606395721436], [1.2066175937652588], [1.2230943441390991], [1.2421802282333374], [1.2640804052352905], [1.2888145446777344], [1.316227912902832], [1.346025824546814], [1.3778116703033447], [1.4111416339874268], [1.445572018623352], [1.4807119369506836], [1.516260027885437], [1.5520342588424683], [1.5879772901535034], [1.6241514682769775], [1.6607121229171753], [1.6978683471679688], [1.7358357906341553]]\n"
     ]
    }
   ],
   "source": [
    "# demonstrate prediction for next 10 days\n",
    "\n",
    "from numpy import array\n",
    "\n",
    "first_output=[]\n",
    "n_steps=100\n",
    "i=0\n",
    "\n",
    "ptest_x=input_x \n",
    "\n",
    "while(i<30):\n",
    "    if (len(input_t)>100):\n",
    "        ptest_x=np.array(input_t[1:])\n",
    "        print(\"{} day input {}\".format(i, ptest_x))\n",
    "        ptest_x=ptest_x.reshape(1,-1)\n",
    "        ptest_x=ptest_x.reshape((1, n_steps, 1))\n",
    "        \n",
    "        ptest_y=model.predict(ptest_x, verbose=0)\n",
    "        print(\"{} day output {}\".format(i, ptest_y))\n",
    "        input_t.extend(ptest_y[0].tolist())\n",
    "        input_t=input_t[1:]\n",
    "        first_output.extend(ptest_y.tolist())\n",
    "        i=i+1\n",
    "    else:\n",
    "        ptest_x=ptest_x.reshape((1, n_steps,1))\n",
    "        ptest_y=model.predict(ptest_x, verbose=0)\n",
    "        print(ptest_y[0])\n",
    "        input_t.extend(ptest_y[0].tolist())\n",
    "        print(len(input_t))\n",
    "        first_output.extend(ptest_y.tolist())\n",
    "        i=i+1\n",
    "        \n",
    "    print(first_output)\n",
    "    \n",
    "        "
   ]
  },
  {
   "cell_type": "code",
   "execution_count": 237,
   "metadata": {},
   "outputs": [],
   "source": [
    "day_new=np.arange(1,101)\n",
    "day_pred=np.arange(101,131)"
   ]
  },
  {
   "cell_type": "code",
   "execution_count": 238,
   "metadata": {},
   "outputs": [],
   "source": [
    "import matplotlib.pyplot as plt"
   ]
  },
  {
   "cell_type": "code",
   "execution_count": 239,
   "metadata": {},
   "outputs": [
    {
     "data": {
      "text/plain": [
       "(1257, 1)"
      ]
     },
     "execution_count": 239,
     "metadata": {},
     "output_type": "execute_result"
    }
   ],
   "source": [
    "df1.shape"
   ]
  },
  {
   "cell_type": "code",
   "execution_count": 240,
   "metadata": {},
   "outputs": [
    {
     "data": {
      "text/plain": [
       "[[1.0013067722320557],\n",
       " [1.034361481666565],\n",
       " [1.0606515407562256],\n",
       " [1.0822944641113281],\n",
       " [1.1009628772735596],\n",
       " [1.1174229383468628],\n",
       " [1.1319904327392578],\n",
       " [1.1449640989303589],\n",
       " [1.1568107604980469],\n",
       " [1.168168067932129],\n",
       " [1.1797699928283691],\n",
       " [1.1923606395721436],\n",
       " [1.2066175937652588],\n",
       " [1.2230943441390991],\n",
       " [1.2421802282333374],\n",
       " [1.2640804052352905],\n",
       " [1.2888145446777344],\n",
       " [1.316227912902832],\n",
       " [1.346025824546814],\n",
       " [1.3778116703033447],\n",
       " [1.4111416339874268],\n",
       " [1.445572018623352],\n",
       " [1.4807119369506836],\n",
       " [1.516260027885437],\n",
       " [1.5520342588424683],\n",
       " [1.5879772901535034],\n",
       " [1.6241514682769775],\n",
       " [1.6607121229171753],\n",
       " [1.6978683471679688],\n",
       " [1.7358357906341553]]"
      ]
     },
     "execution_count": 240,
     "metadata": {},
     "output_type": "execute_result"
    }
   ],
   "source": [
    "first_output"
   ]
  },
  {
   "cell_type": "code",
   "execution_count": 241,
   "metadata": {},
   "outputs": [
    {
     "data": {
      "text/plain": [
       "[<matplotlib.lines.Line2D at 0x13e296c70>]"
      ]
     },
     "execution_count": 241,
     "metadata": {},
     "output_type": "execute_result"
    },
    {
     "data": {
      "image/png": "[encoded data removed]",
      "text/plain": [
       "<Figure size 432x288 with 1 Axes>"
      ]
     },
     "metadata": {
      "needs_background": "light"
     },
     "output_type": "display_data"
    }
   ],
   "source": [
    "plt.plot(day_new, scaler.inverse_transform(df1[1157:]))\n",
    "plt.plot(day_pred, scaler.inverse_transform(first_output))"
   ]
  },
  {
   "cell_type": "code",
   "execution_count": 242,
   "metadata": {},
   "outputs": [
    {
     "data": {
      "text/plain": [
       "[<matplotlib.lines.Line2D at 0x13e2b0910>]"
      ]
     },
     "execution_count": 242,
     "metadata": {},
     "output_type": "execute_result"
    },
    {
     "data": {
      "image/png": "[encoded data removed]",
      "text/plain": [
       "<Figure size 432x288 with 1 Axes>"
      ]
     },
     "metadata": {
      "needs_background": "light"
     },
     "output_type": "display_data"
    }
   ],
   "source": [
    "df3=df1.tolist()\n",
    "df3.extend(first_output)\n",
    "plt.plot(df3[1000:])"
   ]
  },
  {
   "cell_type": "code",
   "execution_count": 243,
   "metadata": {},
   "outputs": [
    {
     "data": {
      "text/plain": [
       "[<matplotlib.lines.Line2D at 0x13e3117f0>]"
      ]
     },
     "execution_count": 243,
     "metadata": {},
     "output_type": "execute_result"
    },
    {
     "data": {
      "image/png": "[encoded data removed]",
      "text/plain": [
       "<Figure size 432x288 with 1 Axes>"
      ]
     },
     "metadata": {
      "needs_background": "light"
     },
     "output_type": "display_data"
    }
   ],
   "source": [
    "plt.plot(scaler.inverse_transform(df3[1200:]))"
   ]
  },
  {
   "cell_type": "code",
   "execution_count": null,
   "metadata": {},
   "outputs": [],
   "source": []
  }
 ],
 "metadata": {
  "kernelspec": {
   "display_name": "Python 3",
   "language": "python",
   "name": "python3"
  },
  "language_info": {
   "codemirror_mode": {
    "name": "ipython",
    "version": 3
   },
   "file_extension": ".py",
   "mimetype": "text/x-python",
   "name": "python",
   "nbconvert_exporter": "python",
   "pygments_lexer": "ipython3",
   "version": "3.8.3"
  }
 },
 "nbformat": 4,
 "nbformat_minor": 4
}
